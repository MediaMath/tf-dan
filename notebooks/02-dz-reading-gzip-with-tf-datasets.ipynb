{
 "cells": [
  {
   "cell_type": "markdown",
   "metadata": {},
   "source": [
    "# Quick test of Tensorflow CsvDataset API"
   ]
  },
  {
   "cell_type": "code",
   "execution_count": 1,
   "metadata": {
    "ExecuteTime": {
     "end_time": "2018-11-19T01:57:37.004247Z",
     "start_time": "2018-11-19T01:57:32.346434Z"
    }
   },
   "outputs": [
    {
     "name": "stderr",
     "output_type": "stream",
     "text": [
      "/Users/derekzhao/anaconda3/envs/python-36/lib/python3.6/site-packages/h5py/__init__.py:34: FutureWarning: Conversion of the second argument of issubdtype from `float` to `np.floating` is deprecated. In future, it will be treated as `np.float64 == np.dtype(float).type`.\n",
      "  from ._conv import register_converters as _register_converters\n"
     ]
    },
    {
     "name": "stdout",
     "output_type": "stream",
     "text": [
      "1.11.0\n"
     ]
    }
   ],
   "source": [
    "import numpy as np\n",
    "import tensorflow as tf\n",
    "import os\n",
    "import glob\n",
    "\n",
    "import pandas as pd\n",
    "\n",
    "from IPython.display import clear_output\n",
    "\n",
    "# tf.contrib.data.CsvDataset can only read GZIP'ed CSV's in version 1.11\n",
    "print(tf.__version__)"
   ]
  },
  {
   "cell_type": "code",
   "execution_count": 2,
   "metadata": {
    "ExecuteTime": {
     "end_time": "2018-11-19T01:58:02.914751Z",
     "start_time": "2018-11-19T01:58:02.908573Z"
    },
    "collapsed": true
   },
   "outputs": [],
   "source": [
    "DATA_PATH_POS = '../data/raw/mm-cpc/train/data-positive/'\n",
    "DATA_PATH_NEG = '../data/raw/mm-cpc/train/data-negative/'\n",
    "NUM_FEATURES = 97\n",
    "BATCH_SIZE = 1000"
   ]
  },
  {
   "cell_type": "code",
   "execution_count": 15,
   "metadata": {
    "ExecuteTime": {
     "end_time": "2018-11-19T02:01:32.237667Z",
     "start_time": "2018-11-19T02:01:31.981941Z"
    }
   },
   "outputs": [],
   "source": [
    "pos_gzip_paths = glob.glob(os.path.join(DATA_PATH_POS, '*.gz'))\n",
    "neg_gzip_paths = glob.glob(os.path.join(DATA_PATH_NEG, '*.gz'))\n",
    "\n",
    "record_defaults = [tf.constant(['nan'], dtype=tf.string)] * NUM_FEATURES\n",
    "\n",
    "dataset_pos = tf.contrib.data.CsvDataset(\n",
    "  pos_gzip_paths,\n",
    "  record_defaults=record_defaults,\n",
    "  header=True,\n",
    "  compression_type='GZIP',\n",
    ")\n",
    "\n",
    "dataset_neg = tf.contrib.data.CsvDataset(\n",
    "  neg_gzip_paths,\n",
    "  record_defaults=record_defaults,\n",
    "  header=True,\n",
    "  compression_type='GZIP',\n",
    ")\n",
    "\n",
    "iterator_pos = dataset_pos.repeat(1).batch(BATCH_SIZE).make_one_shot_iterator()\n",
    "iterator_neg = dataset_neg.repeat(1).batch(BATCH_SIZE).make_one_shot_iterator()"
   ]
  },
  {
   "cell_type": "markdown",
   "metadata": {},
   "source": [
    "### Output of iterator.get_next() returns a tuple of NUM_FEATURES arrays, each with BATCH_SIZE elements."
   ]
  },
  {
   "cell_type": "code",
   "execution_count": 16,
   "metadata": {
    "ExecuteTime": {
     "end_time": "2018-11-19T02:01:37.231415Z",
     "start_time": "2018-11-19T02:01:36.938264Z"
    },
    "scrolled": false
   },
   "outputs": [
    {
     "data": {
      "text/plain": [
       "(97, 1000)"
      ]
     },
     "execution_count": 16,
     "metadata": {},
     "output_type": "execute_result"
    }
   ],
   "source": [
    "with tf.Session() as sess:\n",
    "  batch_pos = sess.run(iterator_pos.get_next())\n",
    "np.array(batch_pos).shape"
   ]
  },
  {
   "cell_type": "code",
   "execution_count": 17,
   "metadata": {
    "ExecuteTime": {
     "end_time": "2018-11-19T02:01:45.252455Z",
     "start_time": "2018-11-19T02:01:44.999193Z"
    },
    "scrolled": false
   },
   "outputs": [
    {
     "data": {
      "text/plain": [
       "(97, 1000)"
      ]
     },
     "execution_count": 17,
     "metadata": {},
     "output_type": "execute_result"
    }
   ],
   "source": [
    "with tf.Session() as sess:\n",
    "  batch_neg = sess.run(iterator_neg.get_next())\n",
    "np.array(batch_neg).shape"
   ]
  }
 ],
 "metadata": {
  "kernelspec": {
   "display_name": "Python-3.6",
   "language": "python",
   "name": "python-3.6"
  },
  "language_info": {
   "codemirror_mode": {
    "name": "ipython",
    "version": 3
   },
   "file_extension": ".py",
   "mimetype": "text/x-python",
   "name": "python",
   "nbconvert_exporter": "python",
   "pygments_lexer": "ipython3",
   "version": "3.6.3"
  },
  "varInspector": {
   "cols": {
    "lenName": 16,
    "lenType": 16,
    "lenVar": 40
   },
   "kernels_config": {
    "python": {
     "delete_cmd_postfix": "",
     "delete_cmd_prefix": "del ",
     "library": "var_list.py",
     "varRefreshCmd": "print(var_dic_list())"
    },
    "r": {
     "delete_cmd_postfix": ") ",
     "delete_cmd_prefix": "rm(",
     "library": "var_list.r",
     "varRefreshCmd": "cat(var_dic_list()) "
    }
   },
   "types_to_exclude": [
    "module",
    "function",
    "builtin_function_or_method",
    "instance",
    "_Feature"
   ],
   "window_display": false
  }
 },
 "nbformat": 4,
 "nbformat_minor": 2
}
