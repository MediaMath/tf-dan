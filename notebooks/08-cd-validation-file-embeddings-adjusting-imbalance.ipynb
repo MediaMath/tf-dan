{
 "cells": [
  {
   "cell_type": "code",
   "execution_count": 1,
   "metadata": {},
   "outputs": [
    {
     "name": "stderr",
     "output_type": "stream",
     "text": [
      "/Users/dc/anaconda3/lib/python3.6/importlib/_bootstrap.py:219: RuntimeWarning: compiletime version 3.5 of module 'tensorflow.python.framework.fast_tensor_util' does not match runtime version 3.6\n",
      "  return f(*args, **kwds)\n",
      "/Users/dc/anaconda3/lib/python3.6/site-packages/h5py/__init__.py:34: FutureWarning: Conversion of the second argument of issubdtype from `float` to `np.floating` is deprecated. In future, it will be treated as `np.float64 == np.dtype(float).type`.\n",
      "  from ._conv import register_converters as _register_converters\n"
     ]
    }
   ],
   "source": [
    "import os\n",
    "import sys\n",
    "import csv\n",
    "import glob\n",
    "import json\n",
    "import random\n",
    "\n",
    "import numpy as np\n",
    "import pandas as pd\n",
    "import tensorflow as tf"
   ]
  },
  {
   "cell_type": "code",
   "execution_count": 2,
   "metadata": {
    "collapsed": true
   },
   "outputs": [],
   "source": [
    "#RAW_DIR = args.raw_dir\n",
    "DATASET = 'mm-cpc'\n",
    "POSITIVE_SAMPLE_PROPORTION = 11\n",
    "if DATASET == 'mm-cpc':\n",
    "    val_csv = ['../data/processed/mm-cpc/validation.csv']\n",
    "#val_csv = glob.glob(os.path.join(val_dir, '*.csv'))"
   ]
  },
  {
   "cell_type": "code",
   "execution_count": 3,
   "metadata": {
    "collapsed": true
   },
   "outputs": [],
   "source": [
    "val_df = pd.read_csv(val_csv[-1],index_col=None, header=0)"
   ]
  },
  {
   "cell_type": "code",
   "execution_count": 4,
   "metadata": {},
   "outputs": [
    {
     "data": {
      "text/plain": [
       "(355741, 144)"
      ]
     },
     "execution_count": 4,
     "metadata": {},
     "output_type": "execute_result"
    }
   ],
   "source": [
    "val_df.shape"
   ]
  },
  {
   "cell_type": "code",
   "execution_count": 5,
   "metadata": {
    "collapsed": true
   },
   "outputs": [],
   "source": [
    "pos_idx = np.where(val_df.conversion_target == 1)[0]\n",
    "neg_idx = np.where(val_df.conversion_target == 0)[0]"
   ]
  },
  {
   "cell_type": "code",
   "execution_count": 6,
   "metadata": {},
   "outputs": [
    {
     "data": {
      "text/plain": [
       "(37049, 299764)"
      ]
     },
     "execution_count": 6,
     "metadata": {},
     "output_type": "execute_result"
    }
   ],
   "source": [
    "(37049, 299764)"
   ]
  },
  {
   "cell_type": "code",
   "execution_count": 7,
   "metadata": {},
   "outputs": [
    {
     "data": {
      "text/plain": [
       "(55977, 299764)"
      ]
     },
     "execution_count": 7,
     "metadata": {},
     "output_type": "execute_result"
    }
   ],
   "source": [
    "len(pos_idx),len(neg_idx)"
   ]
  },
  {
   "cell_type": "code",
   "execution_count": 8,
   "metadata": {},
   "outputs": [
    {
     "data": {
      "text/plain": [
       "37049"
      ]
     },
     "execution_count": 8,
     "metadata": {},
     "output_type": "execute_result"
    }
   ],
   "source": [
    "#number of negative samples needed from validation dataset is:\n",
    "pos_samples_ct_reqd = round(POSITIVE_SAMPLE_PROPORTION*len(neg_idx)/(100-POSITIVE_SAMPLE_PROPORTION))\n",
    "pos_samples_ct_reqd"
   ]
  },
  {
   "cell_type": "code",
   "execution_count": 9,
   "metadata": {
    "collapsed": true
   },
   "outputs": [],
   "source": [
    "pos_idx_df_selected = random.sample(list(pos_idx), pos_samples_ct_reqd)"
   ]
  },
  {
   "cell_type": "code",
   "execution_count": 10,
   "metadata": {
    "collapsed": true
   },
   "outputs": [],
   "source": [
    "idx_selected = pos_idx_df_selected + list(neg_idx)\n",
    "idx_selected = random.sample(idx_selected, len(idx_selected))"
   ]
  },
  {
   "cell_type": "code",
   "execution_count": 11,
   "metadata": {
    "collapsed": true
   },
   "outputs": [],
   "source": [
    "val_df_final = val_df.iloc[idx_selected,:].reset_index(drop=True).copy()"
   ]
  },
  {
   "cell_type": "code",
   "execution_count": 12,
   "metadata": {},
   "outputs": [
    {
     "data": {
      "text/html": [
       "<div>\n",
       "<style>\n",
       "    .dataframe thead tr:only-child th {\n",
       "        text-align: right;\n",
       "    }\n",
       "\n",
       "    .dataframe thead th {\n",
       "        text-align: left;\n",
       "    }\n",
       "\n",
       "    .dataframe tbody tr th {\n",
       "        vertical-align: top;\n",
       "    }\n",
       "</style>\n",
       "<table border=\"1\" class=\"dataframe\">\n",
       "  <thead>\n",
       "    <tr style=\"text-align: right;\">\n",
       "      <th></th>\n",
       "      <th>am_1024847_bpf</th>\n",
       "      <th>am_1024847_bpr</th>\n",
       "      <th>am_1024847_pixel</th>\n",
       "      <th>am_1024849_bpf</th>\n",
       "      <th>am_1024849_bpr</th>\n",
       "      <th>am_1024849_pixel</th>\n",
       "      <th>am_1024856_bpf</th>\n",
       "      <th>am_1024856_bpr</th>\n",
       "      <th>am_1024856_pixel</th>\n",
       "      <th>am_1057601_bpf</th>\n",
       "      <th>...</th>\n",
       "      <th>os_id_3</th>\n",
       "      <th>os_id_4</th>\n",
       "      <th>os_id_5</th>\n",
       "      <th>os_version</th>\n",
       "      <th>region_id</th>\n",
       "      <th>site_id</th>\n",
       "      <th>size</th>\n",
       "      <th>week_part_0</th>\n",
       "      <th>week_part_1</th>\n",
       "      <th>conversion_target</th>\n",
       "    </tr>\n",
       "  </thead>\n",
       "  <tbody>\n",
       "    <tr>\n",
       "      <th>0</th>\n",
       "      <td>0.553510</td>\n",
       "      <td>-0.311994</td>\n",
       "      <td>0.553510</td>\n",
       "      <td>-0.807498</td>\n",
       "      <td>-0.368688</td>\n",
       "      <td>-0.807498</td>\n",
       "      <td>-0.172283</td>\n",
       "      <td>-0.101304</td>\n",
       "      <td>-0.172283</td>\n",
       "      <td>-0.766844</td>\n",
       "      <td>...</td>\n",
       "      <td>0.0</td>\n",
       "      <td>1.0</td>\n",
       "      <td>0.0</td>\n",
       "      <td>82.0</td>\n",
       "      <td>40.0</td>\n",
       "      <td>3824.0</td>\n",
       "      <td>1.0</td>\n",
       "      <td>0.0</td>\n",
       "      <td>1.0</td>\n",
       "      <td>0.0</td>\n",
       "    </tr>\n",
       "    <tr>\n",
       "      <th>1</th>\n",
       "      <td>-1.806652</td>\n",
       "      <td>-0.555130</td>\n",
       "      <td>-1.806652</td>\n",
       "      <td>-0.807498</td>\n",
       "      <td>-0.368688</td>\n",
       "      <td>-0.807498</td>\n",
       "      <td>-0.172283</td>\n",
       "      <td>-0.101304</td>\n",
       "      <td>-0.172283</td>\n",
       "      <td>-0.766844</td>\n",
       "      <td>...</td>\n",
       "      <td>0.0</td>\n",
       "      <td>1.0</td>\n",
       "      <td>0.0</td>\n",
       "      <td>0.0</td>\n",
       "      <td>44.0</td>\n",
       "      <td>52073.0</td>\n",
       "      <td>0.0</td>\n",
       "      <td>1.0</td>\n",
       "      <td>0.0</td>\n",
       "      <td>1.0</td>\n",
       "    </tr>\n",
       "    <tr>\n",
       "      <th>2</th>\n",
       "      <td>-1.806652</td>\n",
       "      <td>-0.555130</td>\n",
       "      <td>-1.806652</td>\n",
       "      <td>1.238393</td>\n",
       "      <td>-0.346148</td>\n",
       "      <td>1.238393</td>\n",
       "      <td>-0.172283</td>\n",
       "      <td>-0.101304</td>\n",
       "      <td>-0.172283</td>\n",
       "      <td>-0.766844</td>\n",
       "      <td>...</td>\n",
       "      <td>0.0</td>\n",
       "      <td>1.0</td>\n",
       "      <td>0.0</td>\n",
       "      <td>87.0</td>\n",
       "      <td>36.0</td>\n",
       "      <td>41684.0</td>\n",
       "      <td>8.0</td>\n",
       "      <td>1.0</td>\n",
       "      <td>0.0</td>\n",
       "      <td>0.0</td>\n",
       "    </tr>\n",
       "    <tr>\n",
       "      <th>3</th>\n",
       "      <td>0.553510</td>\n",
       "      <td>-0.095121</td>\n",
       "      <td>0.553510</td>\n",
       "      <td>1.238393</td>\n",
       "      <td>-0.108272</td>\n",
       "      <td>1.238393</td>\n",
       "      <td>-0.172283</td>\n",
       "      <td>-0.101304</td>\n",
       "      <td>-0.172283</td>\n",
       "      <td>1.304047</td>\n",
       "      <td>...</td>\n",
       "      <td>1.0</td>\n",
       "      <td>0.0</td>\n",
       "      <td>0.0</td>\n",
       "      <td>30.0</td>\n",
       "      <td>43.0</td>\n",
       "      <td>34977.0</td>\n",
       "      <td>8.0</td>\n",
       "      <td>1.0</td>\n",
       "      <td>0.0</td>\n",
       "      <td>0.0</td>\n",
       "    </tr>\n",
       "    <tr>\n",
       "      <th>4</th>\n",
       "      <td>0.553510</td>\n",
       "      <td>-0.505272</td>\n",
       "      <td>0.553510</td>\n",
       "      <td>-0.807498</td>\n",
       "      <td>-0.368688</td>\n",
       "      <td>-0.807498</td>\n",
       "      <td>-0.172283</td>\n",
       "      <td>-0.101304</td>\n",
       "      <td>-0.172283</td>\n",
       "      <td>1.304047</td>\n",
       "      <td>...</td>\n",
       "      <td>0.0</td>\n",
       "      <td>1.0</td>\n",
       "      <td>0.0</td>\n",
       "      <td>82.0</td>\n",
       "      <td>32.0</td>\n",
       "      <td>38627.0</td>\n",
       "      <td>8.0</td>\n",
       "      <td>1.0</td>\n",
       "      <td>0.0</td>\n",
       "      <td>0.0</td>\n",
       "    </tr>\n",
       "  </tbody>\n",
       "</table>\n",
       "<p>5 rows × 144 columns</p>\n",
       "</div>"
      ],
      "text/plain": [
       "   am_1024847_bpf  am_1024847_bpr  am_1024847_pixel  am_1024849_bpf  \\\n",
       "0        0.553510       -0.311994          0.553510       -0.807498   \n",
       "1       -1.806652       -0.555130         -1.806652       -0.807498   \n",
       "2       -1.806652       -0.555130         -1.806652        1.238393   \n",
       "3        0.553510       -0.095121          0.553510        1.238393   \n",
       "4        0.553510       -0.505272          0.553510       -0.807498   \n",
       "\n",
       "   am_1024849_bpr  am_1024849_pixel  am_1024856_bpf  am_1024856_bpr  \\\n",
       "0       -0.368688         -0.807498       -0.172283       -0.101304   \n",
       "1       -0.368688         -0.807498       -0.172283       -0.101304   \n",
       "2       -0.346148          1.238393       -0.172283       -0.101304   \n",
       "3       -0.108272          1.238393       -0.172283       -0.101304   \n",
       "4       -0.368688         -0.807498       -0.172283       -0.101304   \n",
       "\n",
       "   am_1024856_pixel  am_1057601_bpf        ...          os_id_3  os_id_4  \\\n",
       "0         -0.172283       -0.766844        ...              0.0      1.0   \n",
       "1         -0.172283       -0.766844        ...              0.0      1.0   \n",
       "2         -0.172283       -0.766844        ...              0.0      1.0   \n",
       "3         -0.172283        1.304047        ...              1.0      0.0   \n",
       "4         -0.172283        1.304047        ...              0.0      1.0   \n",
       "\n",
       "   os_id_5  os_version  region_id  site_id  size  week_part_0  week_part_1  \\\n",
       "0      0.0        82.0       40.0   3824.0   1.0          0.0          1.0   \n",
       "1      0.0         0.0       44.0  52073.0   0.0          1.0          0.0   \n",
       "2      0.0        87.0       36.0  41684.0   8.0          1.0          0.0   \n",
       "3      0.0        30.0       43.0  34977.0   8.0          1.0          0.0   \n",
       "4      0.0        82.0       32.0  38627.0   8.0          1.0          0.0   \n",
       "\n",
       "   conversion_target  \n",
       "0                0.0  \n",
       "1                1.0  \n",
       "2                0.0  \n",
       "3                0.0  \n",
       "4                0.0  \n",
       "\n",
       "[5 rows x 144 columns]"
      ]
     },
     "execution_count": 12,
     "metadata": {},
     "output_type": "execute_result"
    }
   ],
   "source": [
    "val_df_final.head()"
   ]
  },
  {
   "cell_type": "code",
   "execution_count": 13,
   "metadata": {
    "collapsed": true
   },
   "outputs": [],
   "source": [
    "val_df_final.to_csv(val_csv[-1],index = False)"
   ]
  },
  {
   "cell_type": "code",
   "execution_count": null,
   "metadata": {
    "collapsed": true
   },
   "outputs": [],
   "source": []
  },
  {
   "cell_type": "code",
   "execution_count": 14,
   "metadata": {},
   "outputs": [
    {
     "data": {
      "text/plain": [
       "(355741, 336813)"
      ]
     },
     "execution_count": 14,
     "metadata": {},
     "output_type": "execute_result"
    }
   ],
   "source": [
    "55977+299764,37049+299764"
   ]
  },
  {
   "cell_type": "code",
   "execution_count": 15,
   "metadata": {
    "collapsed": true
   },
   "outputs": [],
   "source": [
    "a = pd.read_csv(val_csv[-1])#,index_col=None, header=0)"
   ]
  },
  {
   "cell_type": "code",
   "execution_count": 16,
   "metadata": {},
   "outputs": [
    {
     "data": {
      "text/html": [
       "<div>\n",
       "<style>\n",
       "    .dataframe thead tr:only-child th {\n",
       "        text-align: right;\n",
       "    }\n",
       "\n",
       "    .dataframe thead th {\n",
       "        text-align: left;\n",
       "    }\n",
       "\n",
       "    .dataframe tbody tr th {\n",
       "        vertical-align: top;\n",
       "    }\n",
       "</style>\n",
       "<table border=\"1\" class=\"dataframe\">\n",
       "  <thead>\n",
       "    <tr style=\"text-align: right;\">\n",
       "      <th></th>\n",
       "      <th>am_1024847_bpf</th>\n",
       "      <th>am_1024847_bpr</th>\n",
       "      <th>am_1024847_pixel</th>\n",
       "      <th>am_1024849_bpf</th>\n",
       "      <th>am_1024849_bpr</th>\n",
       "      <th>am_1024849_pixel</th>\n",
       "      <th>am_1024856_bpf</th>\n",
       "      <th>am_1024856_bpr</th>\n",
       "      <th>am_1024856_pixel</th>\n",
       "      <th>am_1057601_bpf</th>\n",
       "      <th>...</th>\n",
       "      <th>os_id_3</th>\n",
       "      <th>os_id_4</th>\n",
       "      <th>os_id_5</th>\n",
       "      <th>os_version</th>\n",
       "      <th>region_id</th>\n",
       "      <th>site_id</th>\n",
       "      <th>size</th>\n",
       "      <th>week_part_0</th>\n",
       "      <th>week_part_1</th>\n",
       "      <th>conversion_target</th>\n",
       "    </tr>\n",
       "  </thead>\n",
       "  <tbody>\n",
       "    <tr>\n",
       "      <th>0</th>\n",
       "      <td>0.553510</td>\n",
       "      <td>-0.311994</td>\n",
       "      <td>0.553510</td>\n",
       "      <td>-0.807498</td>\n",
       "      <td>-0.368688</td>\n",
       "      <td>-0.807498</td>\n",
       "      <td>-0.172283</td>\n",
       "      <td>-0.101304</td>\n",
       "      <td>-0.172283</td>\n",
       "      <td>-0.766844</td>\n",
       "      <td>...</td>\n",
       "      <td>0.0</td>\n",
       "      <td>1.0</td>\n",
       "      <td>0.0</td>\n",
       "      <td>82.0</td>\n",
       "      <td>40.0</td>\n",
       "      <td>3824.0</td>\n",
       "      <td>1.0</td>\n",
       "      <td>0.0</td>\n",
       "      <td>1.0</td>\n",
       "      <td>0.0</td>\n",
       "    </tr>\n",
       "    <tr>\n",
       "      <th>1</th>\n",
       "      <td>-1.806652</td>\n",
       "      <td>-0.555130</td>\n",
       "      <td>-1.806652</td>\n",
       "      <td>-0.807498</td>\n",
       "      <td>-0.368688</td>\n",
       "      <td>-0.807498</td>\n",
       "      <td>-0.172283</td>\n",
       "      <td>-0.101304</td>\n",
       "      <td>-0.172283</td>\n",
       "      <td>-0.766844</td>\n",
       "      <td>...</td>\n",
       "      <td>0.0</td>\n",
       "      <td>1.0</td>\n",
       "      <td>0.0</td>\n",
       "      <td>0.0</td>\n",
       "      <td>44.0</td>\n",
       "      <td>52073.0</td>\n",
       "      <td>0.0</td>\n",
       "      <td>1.0</td>\n",
       "      <td>0.0</td>\n",
       "      <td>1.0</td>\n",
       "    </tr>\n",
       "    <tr>\n",
       "      <th>2</th>\n",
       "      <td>-1.806652</td>\n",
       "      <td>-0.555130</td>\n",
       "      <td>-1.806652</td>\n",
       "      <td>1.238393</td>\n",
       "      <td>-0.346148</td>\n",
       "      <td>1.238393</td>\n",
       "      <td>-0.172283</td>\n",
       "      <td>-0.101304</td>\n",
       "      <td>-0.172283</td>\n",
       "      <td>-0.766844</td>\n",
       "      <td>...</td>\n",
       "      <td>0.0</td>\n",
       "      <td>1.0</td>\n",
       "      <td>0.0</td>\n",
       "      <td>87.0</td>\n",
       "      <td>36.0</td>\n",
       "      <td>41684.0</td>\n",
       "      <td>8.0</td>\n",
       "      <td>1.0</td>\n",
       "      <td>0.0</td>\n",
       "      <td>0.0</td>\n",
       "    </tr>\n",
       "    <tr>\n",
       "      <th>3</th>\n",
       "      <td>0.553510</td>\n",
       "      <td>-0.095121</td>\n",
       "      <td>0.553510</td>\n",
       "      <td>1.238393</td>\n",
       "      <td>-0.108272</td>\n",
       "      <td>1.238393</td>\n",
       "      <td>-0.172283</td>\n",
       "      <td>-0.101304</td>\n",
       "      <td>-0.172283</td>\n",
       "      <td>1.304047</td>\n",
       "      <td>...</td>\n",
       "      <td>1.0</td>\n",
       "      <td>0.0</td>\n",
       "      <td>0.0</td>\n",
       "      <td>30.0</td>\n",
       "      <td>43.0</td>\n",
       "      <td>34977.0</td>\n",
       "      <td>8.0</td>\n",
       "      <td>1.0</td>\n",
       "      <td>0.0</td>\n",
       "      <td>0.0</td>\n",
       "    </tr>\n",
       "    <tr>\n",
       "      <th>4</th>\n",
       "      <td>0.553510</td>\n",
       "      <td>-0.505272</td>\n",
       "      <td>0.553510</td>\n",
       "      <td>-0.807498</td>\n",
       "      <td>-0.368688</td>\n",
       "      <td>-0.807498</td>\n",
       "      <td>-0.172283</td>\n",
       "      <td>-0.101304</td>\n",
       "      <td>-0.172283</td>\n",
       "      <td>1.304047</td>\n",
       "      <td>...</td>\n",
       "      <td>0.0</td>\n",
       "      <td>1.0</td>\n",
       "      <td>0.0</td>\n",
       "      <td>82.0</td>\n",
       "      <td>32.0</td>\n",
       "      <td>38627.0</td>\n",
       "      <td>8.0</td>\n",
       "      <td>1.0</td>\n",
       "      <td>0.0</td>\n",
       "      <td>0.0</td>\n",
       "    </tr>\n",
       "  </tbody>\n",
       "</table>\n",
       "<p>5 rows × 144 columns</p>\n",
       "</div>"
      ],
      "text/plain": [
       "   am_1024847_bpf  am_1024847_bpr  am_1024847_pixel  am_1024849_bpf  \\\n",
       "0        0.553510       -0.311994          0.553510       -0.807498   \n",
       "1       -1.806652       -0.555130         -1.806652       -0.807498   \n",
       "2       -1.806652       -0.555130         -1.806652        1.238393   \n",
       "3        0.553510       -0.095121          0.553510        1.238393   \n",
       "4        0.553510       -0.505272          0.553510       -0.807498   \n",
       "\n",
       "   am_1024849_bpr  am_1024849_pixel  am_1024856_bpf  am_1024856_bpr  \\\n",
       "0       -0.368688         -0.807498       -0.172283       -0.101304   \n",
       "1       -0.368688         -0.807498       -0.172283       -0.101304   \n",
       "2       -0.346148          1.238393       -0.172283       -0.101304   \n",
       "3       -0.108272          1.238393       -0.172283       -0.101304   \n",
       "4       -0.368688         -0.807498       -0.172283       -0.101304   \n",
       "\n",
       "   am_1024856_pixel  am_1057601_bpf        ...          os_id_3  os_id_4  \\\n",
       "0         -0.172283       -0.766844        ...              0.0      1.0   \n",
       "1         -0.172283       -0.766844        ...              0.0      1.0   \n",
       "2         -0.172283       -0.766844        ...              0.0      1.0   \n",
       "3         -0.172283        1.304047        ...              1.0      0.0   \n",
       "4         -0.172283        1.304047        ...              0.0      1.0   \n",
       "\n",
       "   os_id_5  os_version  region_id  site_id  size  week_part_0  week_part_1  \\\n",
       "0      0.0        82.0       40.0   3824.0   1.0          0.0          1.0   \n",
       "1      0.0         0.0       44.0  52073.0   0.0          1.0          0.0   \n",
       "2      0.0        87.0       36.0  41684.0   8.0          1.0          0.0   \n",
       "3      0.0        30.0       43.0  34977.0   8.0          1.0          0.0   \n",
       "4      0.0        82.0       32.0  38627.0   8.0          1.0          0.0   \n",
       "\n",
       "   conversion_target  \n",
       "0                0.0  \n",
       "1                1.0  \n",
       "2                0.0  \n",
       "3                0.0  \n",
       "4                0.0  \n",
       "\n",
       "[5 rows x 144 columns]"
      ]
     },
     "execution_count": 16,
     "metadata": {},
     "output_type": "execute_result"
    }
   ],
   "source": [
    "a.head()"
   ]
  },
  {
   "cell_type": "code",
   "execution_count": 17,
   "metadata": {},
   "outputs": [
    {
     "data": {
      "text/plain": [
       "(336813, 144)"
      ]
     },
     "execution_count": 17,
     "metadata": {},
     "output_type": "execute_result"
    }
   ],
   "source": [
    "a.shape"
   ]
  },
  {
   "cell_type": "code",
   "execution_count": null,
   "metadata": {
    "collapsed": true
   },
   "outputs": [],
   "source": []
  }
 ],
 "metadata": {
  "kernelspec": {
   "display_name": "Python 3",
   "language": "python",
   "name": "python3"
  },
  "language_info": {
   "codemirror_mode": {
    "name": "ipython",
    "version": 3
   },
   "file_extension": ".py",
   "mimetype": "text/x-python",
   "name": "python",
   "nbconvert_exporter": "python",
   "pygments_lexer": "ipython3",
   "version": "3.6.3"
  }
 },
 "nbformat": 4,
 "nbformat_minor": 2
}
