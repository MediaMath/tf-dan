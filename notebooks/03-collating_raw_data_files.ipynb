{
 "cells": [
  {
   "cell_type": "markdown",
   "metadata": {},
   "source": [
    "Through this notebook, we are analysing CTR raw data only. CPC (cost per click data is not using in this notebook)"
   ]
  },
  {
   "cell_type": "code",
   "execution_count": 1,
   "metadata": {
    "collapsed": true
   },
   "outputs": [],
   "source": [
    "import gzip\n",
    "import glob, os\n",
    "import numpy as np\n",
    "import pandas as pd"
   ]
  },
  {
   "cell_type": "code",
   "execution_count": 2,
   "metadata": {
    "collapsed": true
   },
   "outputs": [],
   "source": [
    "#path where negative samples data is stored\n",
    "neg_data = '../data/raw/mm-ctr/train/data-negative/'\n",
    "pos_data = '../data/raw/mm-ctr/train/data-positive/'\n",
    "\n",
    "#list of all .gz files in mm-ctr train folder \n",
    "neg_paths = glob.glob(os.path.join(neg_data, '*.gz'))\n",
    "pos_paths = glob.glob(os.path.join(pos_data, '*.gz'))\n",
    "paths = neg_paths + pos_paths"
   ]
  },
  {
   "cell_type": "code",
   "execution_count": 3,
   "metadata": {},
   "outputs": [
    {
     "name": "stdout",
     "output_type": "stream",
     "text": [
      "There are 26 .gz files in total\n",
      "Number of negative files: 25, Number of positive files: 1\n"
     ]
    }
   ],
   "source": [
    "print ('There are {} .gz files in total'.format(len(paths)))\n",
    "print ('Number of negative files: {}, Number of positive files: {}'.format(len(neg_paths),len(pos_paths)))"
   ]
  },
  {
   "cell_type": "code",
   "execution_count": 4,
   "metadata": {
    "collapsed": true
   },
   "outputs": [],
   "source": [
    "#combine 1 negative and 1 positive files for current analysis\n",
    "neg_df = pd.read_csv(paths[0],index_col=None, header=0)\n",
    "pos_df = pd.read_csv(paths[-1],index_col=None, header=0)"
   ]
  },
  {
   "cell_type": "code",
   "execution_count": 5,
   "metadata": {
    "collapsed": true
   },
   "outputs": [],
   "source": [
    "#to check whether same columns available throughout\n",
    "if sum(neg_df.columns == pos_df.columns) == len(neg_df.columns): \n",
    "    df = neg_df.append(pos_df).reset_index(drop = True)"
   ]
  },
  {
   "cell_type": "code",
   "execution_count": 6,
   "metadata": {},
   "outputs": [
    {
     "data": {
      "text/html": [
       "<div>\n",
       "<style>\n",
       "    .dataframe thead tr:only-child th {\n",
       "        text-align: right;\n",
       "    }\n",
       "\n",
       "    .dataframe thead th {\n",
       "        text-align: left;\n",
       "    }\n",
       "\n",
       "    .dataframe tbody tr th {\n",
       "        vertical-align: top;\n",
       "    }\n",
       "</style>\n",
       "<table border=\"1\" class=\"dataframe\">\n",
       "  <thead>\n",
       "    <tr style=\"text-align: right;\">\n",
       "      <th></th>\n",
       "      <th>exchange_id</th>\n",
       "      <th>user_frequency</th>\n",
       "      <th>site_id</th>\n",
       "      <th>deal_id</th>\n",
       "      <th>channel_type</th>\n",
       "      <th>size</th>\n",
       "      <th>week_part</th>\n",
       "      <th>day_of_week</th>\n",
       "      <th>dma_id</th>\n",
       "      <th>isp_id</th>\n",
       "      <th>...</th>\n",
       "      <th>mm_1211338_bpr</th>\n",
       "      <th>mm_1211339_bpr</th>\n",
       "      <th>mm_1211340_bpr</th>\n",
       "      <th>mm_1211341_bpr</th>\n",
       "      <th>mm_366510_bpr</th>\n",
       "      <th>mm_366513_bpr</th>\n",
       "      <th>mm_422899_bpr</th>\n",
       "      <th>mm_525050_bpr</th>\n",
       "      <th>mm_762574_bpr</th>\n",
       "      <th>column_weights</th>\n",
       "    </tr>\n",
       "  </thead>\n",
       "  <tbody>\n",
       "    <tr>\n",
       "      <th>0</th>\n",
       "      <td>21</td>\n",
       "      <td>99</td>\n",
       "      <td>10805</td>\n",
       "      <td>0</td>\n",
       "      <td>4</td>\n",
       "      <td>19661050</td>\n",
       "      <td>0</td>\n",
       "      <td>2</td>\n",
       "      <td>80050</td>\n",
       "      <td>30014</td>\n",
       "      <td>...</td>\n",
       "      <td>0.0</td>\n",
       "      <td>0.0</td>\n",
       "      <td>0.0</td>\n",
       "      <td>0.0</td>\n",
       "      <td>0.037831</td>\n",
       "      <td>0.037832</td>\n",
       "      <td>0.0</td>\n",
       "      <td>0.000000</td>\n",
       "      <td>0.0</td>\n",
       "      <td>1.0</td>\n",
       "    </tr>\n",
       "    <tr>\n",
       "      <th>1</th>\n",
       "      <td>1000</td>\n",
       "      <td>99</td>\n",
       "      <td>16130</td>\n",
       "      <td>290424</td>\n",
       "      <td>1</td>\n",
       "      <td>63570170</td>\n",
       "      <td>0</td>\n",
       "      <td>3</td>\n",
       "      <td>80195</td>\n",
       "      <td>30001</td>\n",
       "      <td>...</td>\n",
       "      <td>0.0</td>\n",
       "      <td>0.0</td>\n",
       "      <td>0.0</td>\n",
       "      <td>0.0</td>\n",
       "      <td>0.029685</td>\n",
       "      <td>0.000000</td>\n",
       "      <td>0.0</td>\n",
       "      <td>0.000000</td>\n",
       "      <td>0.0</td>\n",
       "      <td>1.0</td>\n",
       "    </tr>\n",
       "    <tr>\n",
       "      <th>2</th>\n",
       "      <td>3</td>\n",
       "      <td>99</td>\n",
       "      <td>294390</td>\n",
       "      <td>0</td>\n",
       "      <td>4</td>\n",
       "      <td>20971570</td>\n",
       "      <td>0</td>\n",
       "      <td>2</td>\n",
       "      <td>80195</td>\n",
       "      <td>30031</td>\n",
       "      <td>...</td>\n",
       "      <td>0.0</td>\n",
       "      <td>0.0</td>\n",
       "      <td>0.0</td>\n",
       "      <td>0.0</td>\n",
       "      <td>1.000000</td>\n",
       "      <td>0.000000</td>\n",
       "      <td>0.0</td>\n",
       "      <td>0.000000</td>\n",
       "      <td>0.0</td>\n",
       "      <td>1.0</td>\n",
       "    </tr>\n",
       "    <tr>\n",
       "      <th>3</th>\n",
       "      <td>4</td>\n",
       "      <td>99</td>\n",
       "      <td>1099402183</td>\n",
       "      <td>0</td>\n",
       "      <td>4</td>\n",
       "      <td>19661050</td>\n",
       "      <td>0</td>\n",
       "      <td>2</td>\n",
       "      <td>80037</td>\n",
       "      <td>30031</td>\n",
       "      <td>...</td>\n",
       "      <td>0.0</td>\n",
       "      <td>0.0</td>\n",
       "      <td>0.0</td>\n",
       "      <td>0.0</td>\n",
       "      <td>0.044743</td>\n",
       "      <td>0.000000</td>\n",
       "      <td>0.0</td>\n",
       "      <td>0.000000</td>\n",
       "      <td>0.0</td>\n",
       "      <td>1.0</td>\n",
       "    </tr>\n",
       "    <tr>\n",
       "      <th>4</th>\n",
       "      <td>5</td>\n",
       "      <td>99</td>\n",
       "      <td>539022666</td>\n",
       "      <td>0</td>\n",
       "      <td>4</td>\n",
       "      <td>20971570</td>\n",
       "      <td>1</td>\n",
       "      <td>0</td>\n",
       "      <td>80029</td>\n",
       "      <td>30014</td>\n",
       "      <td>...</td>\n",
       "      <td>0.0</td>\n",
       "      <td>0.0</td>\n",
       "      <td>0.0</td>\n",
       "      <td>0.0</td>\n",
       "      <td>0.017019</td>\n",
       "      <td>0.017019</td>\n",
       "      <td>0.0</td>\n",
       "      <td>0.000000</td>\n",
       "      <td>0.0</td>\n",
       "      <td>1.0</td>\n",
       "    </tr>\n",
       "    <tr>\n",
       "      <th>5</th>\n",
       "      <td>27</td>\n",
       "      <td>99</td>\n",
       "      <td>11745051</td>\n",
       "      <td>0</td>\n",
       "      <td>1</td>\n",
       "      <td>10486360</td>\n",
       "      <td>1</td>\n",
       "      <td>6</td>\n",
       "      <td>80030</td>\n",
       "      <td>30003</td>\n",
       "      <td>...</td>\n",
       "      <td>0.0</td>\n",
       "      <td>0.0</td>\n",
       "      <td>0.0</td>\n",
       "      <td>0.0</td>\n",
       "      <td>0.024090</td>\n",
       "      <td>0.000000</td>\n",
       "      <td>0.0</td>\n",
       "      <td>0.013247</td>\n",
       "      <td>0.0</td>\n",
       "      <td>1.0</td>\n",
       "    </tr>\n",
       "    <tr>\n",
       "      <th>6</th>\n",
       "      <td>21</td>\n",
       "      <td>99</td>\n",
       "      <td>9993</td>\n",
       "      <td>0</td>\n",
       "      <td>1</td>\n",
       "      <td>47710298</td>\n",
       "      <td>1</td>\n",
       "      <td>6</td>\n",
       "      <td>80173</td>\n",
       "      <td>30016</td>\n",
       "      <td>...</td>\n",
       "      <td>0.0</td>\n",
       "      <td>0.0</td>\n",
       "      <td>0.0</td>\n",
       "      <td>0.0</td>\n",
       "      <td>0.087437</td>\n",
       "      <td>0.087432</td>\n",
       "      <td>0.0</td>\n",
       "      <td>0.000000</td>\n",
       "      <td>0.0</td>\n",
       "      <td>1.0</td>\n",
       "    </tr>\n",
       "    <tr>\n",
       "      <th>7</th>\n",
       "      <td>5</td>\n",
       "      <td>99</td>\n",
       "      <td>537265834</td>\n",
       "      <td>139882</td>\n",
       "      <td>1</td>\n",
       "      <td>47710298</td>\n",
       "      <td>0</td>\n",
       "      <td>1</td>\n",
       "      <td>80029</td>\n",
       "      <td>30001</td>\n",
       "      <td>...</td>\n",
       "      <td>0.0</td>\n",
       "      <td>0.0</td>\n",
       "      <td>0.0</td>\n",
       "      <td>0.0</td>\n",
       "      <td>1.000000</td>\n",
       "      <td>0.000000</td>\n",
       "      <td>0.0</td>\n",
       "      <td>1.000000</td>\n",
       "      <td>0.0</td>\n",
       "      <td>1.0</td>\n",
       "    </tr>\n",
       "    <tr>\n",
       "      <th>8</th>\n",
       "      <td>5</td>\n",
       "      <td>99</td>\n",
       "      <td>539618232</td>\n",
       "      <td>0</td>\n",
       "      <td>1</td>\n",
       "      <td>10486360</td>\n",
       "      <td>0</td>\n",
       "      <td>5</td>\n",
       "      <td>80010</td>\n",
       "      <td>30147</td>\n",
       "      <td>...</td>\n",
       "      <td>0.0</td>\n",
       "      <td>0.0</td>\n",
       "      <td>0.0</td>\n",
       "      <td>0.0</td>\n",
       "      <td>0.012984</td>\n",
       "      <td>0.012984</td>\n",
       "      <td>0.0</td>\n",
       "      <td>0.000000</td>\n",
       "      <td>0.0</td>\n",
       "      <td>1.0</td>\n",
       "    </tr>\n",
       "    <tr>\n",
       "      <th>9</th>\n",
       "      <td>6</td>\n",
       "      <td>99</td>\n",
       "      <td>545756</td>\n",
       "      <td>109725</td>\n",
       "      <td>1</td>\n",
       "      <td>10486360</td>\n",
       "      <td>1</td>\n",
       "      <td>6</td>\n",
       "      <td>80029</td>\n",
       "      <td>30014</td>\n",
       "      <td>...</td>\n",
       "      <td>0.0</td>\n",
       "      <td>0.0</td>\n",
       "      <td>0.0</td>\n",
       "      <td>0.0</td>\n",
       "      <td>0.030332</td>\n",
       "      <td>0.000000</td>\n",
       "      <td>0.0</td>\n",
       "      <td>0.118792</td>\n",
       "      <td>0.0</td>\n",
       "      <td>1.0</td>\n",
       "    </tr>\n",
       "  </tbody>\n",
       "</table>\n",
       "<p>10 rows × 76 columns</p>\n",
       "</div>"
      ],
      "text/plain": [
       "   exchange_id  user_frequency     site_id  deal_id  channel_type      size  \\\n",
       "0           21              99       10805        0             4  19661050   \n",
       "1         1000              99       16130   290424             1  63570170   \n",
       "2            3              99      294390        0             4  20971570   \n",
       "3            4              99  1099402183        0             4  19661050   \n",
       "4            5              99   539022666        0             4  20971570   \n",
       "5           27              99    11745051        0             1  10486360   \n",
       "6           21              99        9993        0             1  47710298   \n",
       "7            5              99   537265834   139882             1  47710298   \n",
       "8            5              99   539618232        0             1  10486360   \n",
       "9            6              99      545756   109725             1  10486360   \n",
       "\n",
       "   week_part  day_of_week  dma_id  isp_id       ...        mm_1211338_bpr  \\\n",
       "0          0            2   80050   30014       ...                   0.0   \n",
       "1          0            3   80195   30001       ...                   0.0   \n",
       "2          0            2   80195   30031       ...                   0.0   \n",
       "3          0            2   80037   30031       ...                   0.0   \n",
       "4          1            0   80029   30014       ...                   0.0   \n",
       "5          1            6   80030   30003       ...                   0.0   \n",
       "6          1            6   80173   30016       ...                   0.0   \n",
       "7          0            1   80029   30001       ...                   0.0   \n",
       "8          0            5   80010   30147       ...                   0.0   \n",
       "9          1            6   80029   30014       ...                   0.0   \n",
       "\n",
       "   mm_1211339_bpr  mm_1211340_bpr  mm_1211341_bpr  mm_366510_bpr  \\\n",
       "0             0.0             0.0             0.0       0.037831   \n",
       "1             0.0             0.0             0.0       0.029685   \n",
       "2             0.0             0.0             0.0       1.000000   \n",
       "3             0.0             0.0             0.0       0.044743   \n",
       "4             0.0             0.0             0.0       0.017019   \n",
       "5             0.0             0.0             0.0       0.024090   \n",
       "6             0.0             0.0             0.0       0.087437   \n",
       "7             0.0             0.0             0.0       1.000000   \n",
       "8             0.0             0.0             0.0       0.012984   \n",
       "9             0.0             0.0             0.0       0.030332   \n",
       "\n",
       "   mm_366513_bpr  mm_422899_bpr  mm_525050_bpr  mm_762574_bpr  column_weights  \n",
       "0       0.037832            0.0       0.000000            0.0             1.0  \n",
       "1       0.000000            0.0       0.000000            0.0             1.0  \n",
       "2       0.000000            0.0       0.000000            0.0             1.0  \n",
       "3       0.000000            0.0       0.000000            0.0             1.0  \n",
       "4       0.017019            0.0       0.000000            0.0             1.0  \n",
       "5       0.000000            0.0       0.013247            0.0             1.0  \n",
       "6       0.087432            0.0       0.000000            0.0             1.0  \n",
       "7       0.000000            0.0       1.000000            0.0             1.0  \n",
       "8       0.012984            0.0       0.000000            0.0             1.0  \n",
       "9       0.000000            0.0       0.118792            0.0             1.0  \n",
       "\n",
       "[10 rows x 76 columns]"
      ]
     },
     "execution_count": 6,
     "metadata": {},
     "output_type": "execute_result"
    }
   ],
   "source": [
    "df.head(10)"
   ]
  },
  {
   "cell_type": "code",
   "execution_count": 7,
   "metadata": {},
   "outputs": [
    {
     "data": {
      "text/plain": [
       "(1021860, 76)"
      ]
     },
     "execution_count": 7,
     "metadata": {},
     "output_type": "execute_result"
    }
   ],
   "source": [
    "df.shape"
   ]
  },
  {
   "cell_type": "code",
   "execution_count": 8,
   "metadata": {},
   "outputs": [
    {
     "name": "stdout",
     "output_type": "stream",
     "text": [
      "number of negative samples = 25000000\n",
      "number of positive samples = 21860\n",
      "Percentage of positive to negative = 0.087%\n"
     ]
    }
   ],
   "source": [
    "print('number of negative samples = {}'.format((len(paths)-1)*len(neg_df)))\n",
    "print ('number of positive samples = {}'.format(len(pos_df)))\n",
    "print ('Percentage of positive to negative = {:.3f}%'.format(len(pos_df)*100/((len(paths)-1)*len(neg_df))))"
   ]
  },
  {
   "cell_type": "code",
   "execution_count": 9,
   "metadata": {
    "collapsed": true
   },
   "outputs": [],
   "source": [
    "defaults = pd.read_csv('../data/raw/mm-ctr/train/defaults.csv',index_col=None, header = 0)"
   ]
  },
  {
   "cell_type": "code",
   "execution_count": 10,
   "metadata": {},
   "outputs": [
    {
     "data": {
      "text/html": [
       "<div>\n",
       "<style>\n",
       "    .dataframe thead tr:only-child th {\n",
       "        text-align: right;\n",
       "    }\n",
       "\n",
       "    .dataframe thead th {\n",
       "        text-align: left;\n",
       "    }\n",
       "\n",
       "    .dataframe tbody tr th {\n",
       "        vertical-align: top;\n",
       "    }\n",
       "</style>\n",
       "<table border=\"1\" class=\"dataframe\">\n",
       "  <thead>\n",
       "    <tr style=\"text-align: right;\">\n",
       "      <th></th>\n",
       "      <th>exchange_id</th>\n",
       "      <th>user_frequency</th>\n",
       "      <th>site_id</th>\n",
       "      <th>deal_id</th>\n",
       "      <th>channel_type</th>\n",
       "      <th>size</th>\n",
       "      <th>week_part</th>\n",
       "      <th>day_of_week</th>\n",
       "      <th>dma_id</th>\n",
       "      <th>isp_id</th>\n",
       "      <th>...</th>\n",
       "      <th>mm_1211338_bpr</th>\n",
       "      <th>mm_1211339_bpr</th>\n",
       "      <th>mm_1211340_bpr</th>\n",
       "      <th>mm_1211341_bpr</th>\n",
       "      <th>mm_366510_bpr</th>\n",
       "      <th>mm_366513_bpr</th>\n",
       "      <th>mm_422899_bpr</th>\n",
       "      <th>mm_525050_bpr</th>\n",
       "      <th>mm_762574_bpr</th>\n",
       "      <th>column_weights</th>\n",
       "    </tr>\n",
       "  </thead>\n",
       "  <tbody>\n",
       "    <tr>\n",
       "      <th>0</th>\n",
       "      <td>-1</td>\n",
       "      <td>-1</td>\n",
       "      <td>-1</td>\n",
       "      <td>-1</td>\n",
       "      <td>-1</td>\n",
       "      <td>-1</td>\n",
       "      <td>-1</td>\n",
       "      <td>-1</td>\n",
       "      <td>-1</td>\n",
       "      <td>-1</td>\n",
       "      <td>...</td>\n",
       "      <td>0.0</td>\n",
       "      <td>0.0</td>\n",
       "      <td>0.0</td>\n",
       "      <td>0.0</td>\n",
       "      <td>0.0</td>\n",
       "      <td>0.0</td>\n",
       "      <td>0.0</td>\n",
       "      <td>0.0</td>\n",
       "      <td>0.0</td>\n",
       "      <td>0.0</td>\n",
       "    </tr>\n",
       "  </tbody>\n",
       "</table>\n",
       "<p>1 rows × 76 columns</p>\n",
       "</div>"
      ],
      "text/plain": [
       "   exchange_id  user_frequency  site_id  deal_id  channel_type  size  \\\n",
       "0           -1              -1       -1       -1            -1    -1   \n",
       "\n",
       "   week_part  day_of_week  dma_id  isp_id       ...        mm_1211338_bpr  \\\n",
       "0         -1           -1      -1      -1       ...                   0.0   \n",
       "\n",
       "   mm_1211339_bpr  mm_1211340_bpr  mm_1211341_bpr  mm_366510_bpr  \\\n",
       "0             0.0             0.0             0.0            0.0   \n",
       "\n",
       "   mm_366513_bpr  mm_422899_bpr  mm_525050_bpr  mm_762574_bpr  column_weights  \n",
       "0            0.0            0.0            0.0            0.0             0.0  \n",
       "\n",
       "[1 rows x 76 columns]"
      ]
     },
     "execution_count": 10,
     "metadata": {},
     "output_type": "execute_result"
    }
   ],
   "source": [
    "defaults"
   ]
  },
  {
   "cell_type": "code",
   "execution_count": 11,
   "metadata": {},
   "outputs": [
    {
     "name": "stdout",
     "output_type": "stream",
     "text": [
      "defaults.csv and dataframe have same columns i.e. 76\n"
     ]
    }
   ],
   "source": [
    "if sum(defaults.columns == df.columns) == len(df.columns):\n",
    "    print ('defaults.csv and dataframe have same columns i.e. {}'.format(len(df.columns)))"
   ]
  },
  {
   "cell_type": "markdown",
   "metadata": {},
   "source": [
    "** What's one hot file?**"
   ]
  },
  {
   "cell_type": "code",
   "execution_count": 12,
   "metadata": {},
   "outputs": [
    {
     "name": "stderr",
     "output_type": "stream",
     "text": [
      "/Users/dc/anaconda3/lib/python3.6/site-packages/IPython/core/interactiveshell.py:2698: DtypeWarning: Columns (22,23,24,25,26,27,28,29,30,31,32,33) have mixed types. Specify dtype option on import or set low_memory=False.\n",
      "  interactivity=interactivity, compiler=compiler, result=result)\n"
     ]
    }
   ],
   "source": [
    "one_hot = pd.read_csv('../data/raw/mm-ctr/train/one_hot.csv',index_col=None, header = 0)"
   ]
  },
  {
   "cell_type": "code",
   "execution_count": 13,
   "metadata": {},
   "outputs": [
    {
     "data": {
      "text/plain": [
       "(204005, 77)"
      ]
     },
     "execution_count": 13,
     "metadata": {},
     "output_type": "execute_result"
    }
   ],
   "source": [
    "one_hot.shape"
   ]
  },
  {
   "cell_type": "code",
   "execution_count": 14,
   "metadata": {},
   "outputs": [
    {
     "data": {
      "text/plain": [
       "{'hashable_feature', 'ohe_feature'}"
      ]
     },
     "execution_count": 14,
     "metadata": {},
     "output_type": "execute_result"
    }
   ],
   "source": [
    "set(one_hot.columns)-set(df.columns)"
   ]
  },
  {
   "cell_type": "code",
   "execution_count": 15,
   "metadata": {},
   "outputs": [
    {
     "data": {
      "text/plain": [
       "{'conversion_target'}"
      ]
     },
     "execution_count": 15,
     "metadata": {},
     "output_type": "execute_result"
    }
   ],
   "source": [
    "set(df.columns)-set(one_hot.columns)"
   ]
  },
  {
   "cell_type": "markdown",
   "metadata": {},
   "source": [
    "** conversion_target** is the target variable indicating positive class (1) vs negative class (0)"
   ]
  },
  {
   "cell_type": "markdown",
   "metadata": {},
   "source": [
    "one_hot.csv file has same columns as df (data columns) except last 2 columnns :['hashable_feature', 'ohe_feature'] indicating values explained by column titles"
   ]
  },
  {
   "cell_type": "markdown",
   "metadata": {},
   "source": [
    "** What is cardinality.csv file?**"
   ]
  },
  {
   "cell_type": "code",
   "execution_count": 16,
   "metadata": {
    "collapsed": true
   },
   "outputs": [],
   "source": [
    "cardinality = pd.read_csv('../data/raw/mm-ctr/train/cardinality.csv',index_col=None, header = 0)"
   ]
  },
  {
   "cell_type": "code",
   "execution_count": 17,
   "metadata": {},
   "outputs": [
    {
     "data": {
      "text/html": [
       "<div>\n",
       "<style>\n",
       "    .dataframe thead tr:only-child th {\n",
       "        text-align: right;\n",
       "    }\n",
       "\n",
       "    .dataframe thead th {\n",
       "        text-align: left;\n",
       "    }\n",
       "\n",
       "    .dataframe tbody tr th {\n",
       "        vertical-align: top;\n",
       "    }\n",
       "</style>\n",
       "<table border=\"1\" class=\"dataframe\">\n",
       "  <thead>\n",
       "    <tr style=\"text-align: right;\">\n",
       "      <th></th>\n",
       "      <th>exchange_id</th>\n",
       "      <th>user_frequency</th>\n",
       "      <th>site_id</th>\n",
       "      <th>deal_id</th>\n",
       "      <th>channel_type</th>\n",
       "      <th>size</th>\n",
       "      <th>week_part</th>\n",
       "      <th>day_of_week</th>\n",
       "      <th>dma_id</th>\n",
       "      <th>isp_id</th>\n",
       "      <th>...</th>\n",
       "      <th>device_manufacturer</th>\n",
       "      <th>device_type</th>\n",
       "      <th>exchange_id_cs_vcr</th>\n",
       "      <th>exchange_id_cs_vrate</th>\n",
       "      <th>exchange_id_cs_ctr</th>\n",
       "      <th>exchange_id_cs_category_id</th>\n",
       "      <th>exchange_id_cs_site_id</th>\n",
       "      <th>category_id</th>\n",
       "      <th>cookieless</th>\n",
       "      <th>cross_device</th>\n",
       "    </tr>\n",
       "  </thead>\n",
       "  <tbody>\n",
       "    <tr>\n",
       "      <th>0</th>\n",
       "      <td>26</td>\n",
       "      <td>1</td>\n",
       "      <td>87271</td>\n",
       "      <td>801</td>\n",
       "      <td>3</td>\n",
       "      <td>87</td>\n",
       "      <td>2</td>\n",
       "      <td>7</td>\n",
       "      <td>212</td>\n",
       "      <td>66</td>\n",
       "      <td>...</td>\n",
       "      <td>148</td>\n",
       "      <td>5</td>\n",
       "      <td>26</td>\n",
       "      <td>62</td>\n",
       "      <td>166</td>\n",
       "      <td>4830</td>\n",
       "      <td>105016</td>\n",
       "      <td>2559</td>\n",
       "      <td>2</td>\n",
       "      <td>2</td>\n",
       "    </tr>\n",
       "  </tbody>\n",
       "</table>\n",
       "<p>1 rows × 37 columns</p>\n",
       "</div>"
      ],
      "text/plain": [
       "   exchange_id  user_frequency  site_id  deal_id  channel_type  size  \\\n",
       "0           26               1    87271      801             3    87   \n",
       "\n",
       "   week_part  day_of_week  dma_id  isp_id      ...       device_manufacturer  \\\n",
       "0          2            7     212      66      ...                       148   \n",
       "\n",
       "   device_type  exchange_id_cs_vcr  exchange_id_cs_vrate  exchange_id_cs_ctr  \\\n",
       "0            5                  26                    62                 166   \n",
       "\n",
       "   exchange_id_cs_category_id  exchange_id_cs_site_id  category_id  \\\n",
       "0                        4830                  105016         2559   \n",
       "\n",
       "   cookieless  cross_device  \n",
       "0           2             2  \n",
       "\n",
       "[1 rows x 37 columns]"
      ]
     },
     "execution_count": 17,
     "metadata": {},
     "output_type": "execute_result"
    }
   ],
   "source": [
    "cardinality"
   ]
  },
  {
   "cell_type": "code",
   "execution_count": 18,
   "metadata": {},
   "outputs": [
    {
     "data": {
      "text/plain": [
       "Index(['exchange_id', 'user_frequency', 'site_id', 'deal_id', 'channel_type',\n",
       "       'size', 'week_part', 'day_of_week', 'dma_id', 'isp_id', 'fold_position',\n",
       "       'browser_language_id', 'country_id', 'conn_speed', 'os_id', 'day_part',\n",
       "       'region_id', 'browser_id', 'hashed_app_id', 'interstitial', 'device_id',\n",
       "       'creative_id', 'browser', 'browser_version', 'os', 'os_version',\n",
       "       'device_model', 'device_manufacturer', 'device_type',\n",
       "       'exchange_id_cs_vcr', 'exchange_id_cs_vrate', 'exchange_id_cs_ctr',\n",
       "       'exchange_id_cs_category_id', 'exchange_id_cs_site_id', 'category_id',\n",
       "       'cookieless', 'cross_device'],\n",
       "      dtype='object')"
      ]
     },
     "execution_count": 18,
     "metadata": {},
     "output_type": "execute_result"
    }
   ],
   "source": [
    "cardinality.columns"
   ]
  },
  {
   "cell_type": "code",
   "execution_count": 19,
   "metadata": {},
   "outputs": [
    {
     "name": "stdout",
     "output_type": "stream",
     "text": [
      "39\n",
      "0\n"
     ]
    }
   ],
   "source": [
    "print (len(set(df.columns)-set(cardinality.columns)))\n",
    "print (len(set(cardinality.columns)-set(df.columns)))"
   ]
  },
  {
   "cell_type": "markdown",
   "metadata": {},
   "source": [
    "** the above result implies that all the columns that are mentioned in cardinality.csv file are available in data files **"
   ]
  },
  {
   "cell_type": "markdown",
   "metadata": {},
   "source": [
    "## Back to exploring df"
   ]
  },
  {
   "cell_type": "code",
   "execution_count": 20,
   "metadata": {},
   "outputs": [
    {
     "data": {
      "text/html": [
       "<div>\n",
       "<style>\n",
       "    .dataframe thead tr:only-child th {\n",
       "        text-align: right;\n",
       "    }\n",
       "\n",
       "    .dataframe thead th {\n",
       "        text-align: left;\n",
       "    }\n",
       "\n",
       "    .dataframe tbody tr th {\n",
       "        vertical-align: top;\n",
       "    }\n",
       "</style>\n",
       "<table border=\"1\" class=\"dataframe\">\n",
       "  <thead>\n",
       "    <tr style=\"text-align: right;\">\n",
       "      <th></th>\n",
       "      <th>exchange_id</th>\n",
       "      <th>user_frequency</th>\n",
       "      <th>site_id</th>\n",
       "      <th>deal_id</th>\n",
       "      <th>channel_type</th>\n",
       "      <th>size</th>\n",
       "      <th>week_part</th>\n",
       "      <th>day_of_week</th>\n",
       "      <th>dma_id</th>\n",
       "      <th>isp_id</th>\n",
       "      <th>...</th>\n",
       "      <th>mm_1211338_bpr</th>\n",
       "      <th>mm_1211339_bpr</th>\n",
       "      <th>mm_1211340_bpr</th>\n",
       "      <th>mm_1211341_bpr</th>\n",
       "      <th>mm_366510_bpr</th>\n",
       "      <th>mm_366513_bpr</th>\n",
       "      <th>mm_422899_bpr</th>\n",
       "      <th>mm_525050_bpr</th>\n",
       "      <th>mm_762574_bpr</th>\n",
       "      <th>column_weights</th>\n",
       "    </tr>\n",
       "  </thead>\n",
       "  <tbody>\n",
       "    <tr>\n",
       "      <th>count</th>\n",
       "      <td>1.021860e+06</td>\n",
       "      <td>1021860.0</td>\n",
       "      <td>1.021860e+06</td>\n",
       "      <td>1.021860e+06</td>\n",
       "      <td>1.021860e+06</td>\n",
       "      <td>1.021860e+06</td>\n",
       "      <td>1.021860e+06</td>\n",
       "      <td>1.021860e+06</td>\n",
       "      <td>1.021860e+06</td>\n",
       "      <td>1.021860e+06</td>\n",
       "      <td>...</td>\n",
       "      <td>1.021860e+06</td>\n",
       "      <td>1.021860e+06</td>\n",
       "      <td>1.021860e+06</td>\n",
       "      <td>1.021860e+06</td>\n",
       "      <td>1.021860e+06</td>\n",
       "      <td>1.021860e+06</td>\n",
       "      <td>1.021860e+06</td>\n",
       "      <td>1.021860e+06</td>\n",
       "      <td>1.021860e+06</td>\n",
       "      <td>1.021860e+06</td>\n",
       "    </tr>\n",
       "    <tr>\n",
       "      <th>mean</th>\n",
       "      <td>7.953811e+01</td>\n",
       "      <td>99.0</td>\n",
       "      <td>3.958760e+08</td>\n",
       "      <td>6.556714e+04</td>\n",
       "      <td>1.879874e+00</td>\n",
       "      <td>2.525266e+07</td>\n",
       "      <td>1.938612e-01</td>\n",
       "      <td>3.099988e+00</td>\n",
       "      <td>8.008484e+04</td>\n",
       "      <td>3.001724e+04</td>\n",
       "      <td>...</td>\n",
       "      <td>6.879002e-08</td>\n",
       "      <td>2.556332e-08</td>\n",
       "      <td>5.389490e-08</td>\n",
       "      <td>5.898128e-08</td>\n",
       "      <td>3.232174e-01</td>\n",
       "      <td>8.902027e-02</td>\n",
       "      <td>1.086018e-02</td>\n",
       "      <td>4.812522e-02</td>\n",
       "      <td>1.009941e-06</td>\n",
       "      <td>2.640116e+01</td>\n",
       "    </tr>\n",
       "    <tr>\n",
       "      <th>std</th>\n",
       "      <td>2.470518e+02</td>\n",
       "      <td>0.0</td>\n",
       "      <td>5.968487e+08</td>\n",
       "      <td>9.785827e+04</td>\n",
       "      <td>1.365833e+00</td>\n",
       "      <td>1.393981e+07</td>\n",
       "      <td>3.953216e-01</td>\n",
       "      <td>1.786751e+00</td>\n",
       "      <td>7.080141e+01</td>\n",
       "      <td>3.008825e+01</td>\n",
       "      <td>...</td>\n",
       "      <td>3.557675e-05</td>\n",
       "      <td>1.834256e-05</td>\n",
       "      <td>3.250731e-05</td>\n",
       "      <td>3.473262e-05</td>\n",
       "      <td>4.139686e-01</td>\n",
       "      <td>2.368868e-01</td>\n",
       "      <td>2.397857e-02</td>\n",
       "      <td>1.868339e-01</td>\n",
       "      <td>6.791525e-04</td>\n",
       "      <td>1.718022e+02</td>\n",
       "    </tr>\n",
       "    <tr>\n",
       "      <th>min</th>\n",
       "      <td>3.000000e+00</td>\n",
       "      <td>99.0</td>\n",
       "      <td>-2.146794e+09</td>\n",
       "      <td>0.000000e+00</td>\n",
       "      <td>1.000000e+00</td>\n",
       "      <td>0.000000e+00</td>\n",
       "      <td>0.000000e+00</td>\n",
       "      <td>0.000000e+00</td>\n",
       "      <td>8.000200e+04</td>\n",
       "      <td>3.000000e+04</td>\n",
       "      <td>...</td>\n",
       "      <td>0.000000e+00</td>\n",
       "      <td>0.000000e+00</td>\n",
       "      <td>0.000000e+00</td>\n",
       "      <td>0.000000e+00</td>\n",
       "      <td>0.000000e+00</td>\n",
       "      <td>0.000000e+00</td>\n",
       "      <td>0.000000e+00</td>\n",
       "      <td>0.000000e+00</td>\n",
       "      <td>0.000000e+00</td>\n",
       "      <td>1.000000e+00</td>\n",
       "    </tr>\n",
       "    <tr>\n",
       "      <th>25%</th>\n",
       "      <td>5.000000e+00</td>\n",
       "      <td>99.0</td>\n",
       "      <td>2.851300e+05</td>\n",
       "      <td>0.000000e+00</td>\n",
       "      <td>1.000000e+00</td>\n",
       "      <td>1.966105e+07</td>\n",
       "      <td>0.000000e+00</td>\n",
       "      <td>2.000000e+00</td>\n",
       "      <td>8.001400e+04</td>\n",
       "      <td>3.000100e+04</td>\n",
       "      <td>...</td>\n",
       "      <td>0.000000e+00</td>\n",
       "      <td>0.000000e+00</td>\n",
       "      <td>0.000000e+00</td>\n",
       "      <td>0.000000e+00</td>\n",
       "      <td>2.366553e-02</td>\n",
       "      <td>0.000000e+00</td>\n",
       "      <td>0.000000e+00</td>\n",
       "      <td>0.000000e+00</td>\n",
       "      <td>0.000000e+00</td>\n",
       "      <td>1.000000e+00</td>\n",
       "    </tr>\n",
       "    <tr>\n",
       "      <th>50%</th>\n",
       "      <td>9.000000e+00</td>\n",
       "      <td>99.0</td>\n",
       "      <td>4.454551e+06</td>\n",
       "      <td>0.000000e+00</td>\n",
       "      <td>1.000000e+00</td>\n",
       "      <td>1.966105e+07</td>\n",
       "      <td>0.000000e+00</td>\n",
       "      <td>3.000000e+00</td>\n",
       "      <td>8.007500e+04</td>\n",
       "      <td>3.001000e+04</td>\n",
       "      <td>...</td>\n",
       "      <td>0.000000e+00</td>\n",
       "      <td>0.000000e+00</td>\n",
       "      <td>0.000000e+00</td>\n",
       "      <td>0.000000e+00</td>\n",
       "      <td>6.762468e-02</td>\n",
       "      <td>1.278574e-02</td>\n",
       "      <td>0.000000e+00</td>\n",
       "      <td>0.000000e+00</td>\n",
       "      <td>0.000000e+00</td>\n",
       "      <td>1.000000e+00</td>\n",
       "    </tr>\n",
       "    <tr>\n",
       "      <th>75%</th>\n",
       "      <td>2.700000e+01</td>\n",
       "      <td>99.0</td>\n",
       "      <td>5.398862e+08</td>\n",
       "      <td>1.156170e+05</td>\n",
       "      <td>4.000000e+00</td>\n",
       "      <td>2.097157e+07</td>\n",
       "      <td>0.000000e+00</td>\n",
       "      <td>5.000000e+00</td>\n",
       "      <td>8.014300e+04</td>\n",
       "      <td>3.001800e+04</td>\n",
       "      <td>...</td>\n",
       "      <td>0.000000e+00</td>\n",
       "      <td>0.000000e+00</td>\n",
       "      <td>0.000000e+00</td>\n",
       "      <td>0.000000e+00</td>\n",
       "      <td>9.883322e-01</td>\n",
       "      <td>3.946422e-02</td>\n",
       "      <td>1.251709e-02</td>\n",
       "      <td>0.000000e+00</td>\n",
       "      <td>0.000000e+00</td>\n",
       "      <td>1.000000e+00</td>\n",
       "    </tr>\n",
       "    <tr>\n",
       "      <th>max</th>\n",
       "      <td>1.000000e+03</td>\n",
       "      <td>99.0</td>\n",
       "      <td>2.147429e+09</td>\n",
       "      <td>3.107990e+05</td>\n",
       "      <td>8.000000e+00</td>\n",
       "      <td>6.710896e+07</td>\n",
       "      <td>1.000000e+00</td>\n",
       "      <td>6.000000e+00</td>\n",
       "      <td>8.036400e+04</td>\n",
       "      <td>3.020400e+04</td>\n",
       "      <td>...</td>\n",
       "      <td>2.125995e-02</td>\n",
       "      <td>1.420595e-02</td>\n",
       "      <td>2.263119e-02</td>\n",
       "      <td>2.271329e-02</td>\n",
       "      <td>1.000000e+00</td>\n",
       "      <td>1.000000e+00</td>\n",
       "      <td>1.428571e-01</td>\n",
       "      <td>1.000000e+00</td>\n",
       "      <td>5.546995e-01</td>\n",
       "      <td>1.188394e+03</td>\n",
       "    </tr>\n",
       "  </tbody>\n",
       "</table>\n",
       "<p>8 rows × 64 columns</p>\n",
       "</div>"
      ],
      "text/plain": [
       "        exchange_id  user_frequency       site_id       deal_id  channel_type  \\\n",
       "count  1.021860e+06       1021860.0  1.021860e+06  1.021860e+06  1.021860e+06   \n",
       "mean   7.953811e+01            99.0  3.958760e+08  6.556714e+04  1.879874e+00   \n",
       "std    2.470518e+02             0.0  5.968487e+08  9.785827e+04  1.365833e+00   \n",
       "min    3.000000e+00            99.0 -2.146794e+09  0.000000e+00  1.000000e+00   \n",
       "25%    5.000000e+00            99.0  2.851300e+05  0.000000e+00  1.000000e+00   \n",
       "50%    9.000000e+00            99.0  4.454551e+06  0.000000e+00  1.000000e+00   \n",
       "75%    2.700000e+01            99.0  5.398862e+08  1.156170e+05  4.000000e+00   \n",
       "max    1.000000e+03            99.0  2.147429e+09  3.107990e+05  8.000000e+00   \n",
       "\n",
       "               size     week_part   day_of_week        dma_id        isp_id  \\\n",
       "count  1.021860e+06  1.021860e+06  1.021860e+06  1.021860e+06  1.021860e+06   \n",
       "mean   2.525266e+07  1.938612e-01  3.099988e+00  8.008484e+04  3.001724e+04   \n",
       "std    1.393981e+07  3.953216e-01  1.786751e+00  7.080141e+01  3.008825e+01   \n",
       "min    0.000000e+00  0.000000e+00  0.000000e+00  8.000200e+04  3.000000e+04   \n",
       "25%    1.966105e+07  0.000000e+00  2.000000e+00  8.001400e+04  3.000100e+04   \n",
       "50%    1.966105e+07  0.000000e+00  3.000000e+00  8.007500e+04  3.001000e+04   \n",
       "75%    2.097157e+07  0.000000e+00  5.000000e+00  8.014300e+04  3.001800e+04   \n",
       "max    6.710896e+07  1.000000e+00  6.000000e+00  8.036400e+04  3.020400e+04   \n",
       "\n",
       "            ...        mm_1211338_bpr  mm_1211339_bpr  mm_1211340_bpr  \\\n",
       "count       ...          1.021860e+06    1.021860e+06    1.021860e+06   \n",
       "mean        ...          6.879002e-08    2.556332e-08    5.389490e-08   \n",
       "std         ...          3.557675e-05    1.834256e-05    3.250731e-05   \n",
       "min         ...          0.000000e+00    0.000000e+00    0.000000e+00   \n",
       "25%         ...          0.000000e+00    0.000000e+00    0.000000e+00   \n",
       "50%         ...          0.000000e+00    0.000000e+00    0.000000e+00   \n",
       "75%         ...          0.000000e+00    0.000000e+00    0.000000e+00   \n",
       "max         ...          2.125995e-02    1.420595e-02    2.263119e-02   \n",
       "\n",
       "       mm_1211341_bpr  mm_366510_bpr  mm_366513_bpr  mm_422899_bpr  \\\n",
       "count    1.021860e+06   1.021860e+06   1.021860e+06   1.021860e+06   \n",
       "mean     5.898128e-08   3.232174e-01   8.902027e-02   1.086018e-02   \n",
       "std      3.473262e-05   4.139686e-01   2.368868e-01   2.397857e-02   \n",
       "min      0.000000e+00   0.000000e+00   0.000000e+00   0.000000e+00   \n",
       "25%      0.000000e+00   2.366553e-02   0.000000e+00   0.000000e+00   \n",
       "50%      0.000000e+00   6.762468e-02   1.278574e-02   0.000000e+00   \n",
       "75%      0.000000e+00   9.883322e-01   3.946422e-02   1.251709e-02   \n",
       "max      2.271329e-02   1.000000e+00   1.000000e+00   1.428571e-01   \n",
       "\n",
       "       mm_525050_bpr  mm_762574_bpr  column_weights  \n",
       "count   1.021860e+06   1.021860e+06    1.021860e+06  \n",
       "mean    4.812522e-02   1.009941e-06    2.640116e+01  \n",
       "std     1.868339e-01   6.791525e-04    1.718022e+02  \n",
       "min     0.000000e+00   0.000000e+00    1.000000e+00  \n",
       "25%     0.000000e+00   0.000000e+00    1.000000e+00  \n",
       "50%     0.000000e+00   0.000000e+00    1.000000e+00  \n",
       "75%     0.000000e+00   0.000000e+00    1.000000e+00  \n",
       "max     1.000000e+00   5.546995e-01    1.188394e+03  \n",
       "\n",
       "[8 rows x 64 columns]"
      ]
     },
     "execution_count": 20,
     "metadata": {},
     "output_type": "execute_result"
    }
   ],
   "source": [
    "df.describe()"
   ]
  },
  {
   "cell_type": "markdown",
   "metadata": {},
   "source": [
    "### unique values count for df"
   ]
  },
  {
   "cell_type": "code",
   "execution_count": 21,
   "metadata": {
    "scrolled": false
   },
   "outputs": [
    {
     "name": "stdout",
     "output_type": "stream",
     "text": [
      "exchange_id                       25\n",
      "user_frequency                     1\n",
      "site_id                        32855\n",
      "deal_id                          578\n",
      "channel_type                       3\n",
      "size                              31\n",
      "week_part                          2\n",
      "day_of_week                        7\n",
      "dma_id                           211\n",
      "isp_id                            56\n",
      "fold_position                      3\n",
      "browser_language_id               66\n",
      "country_id                         1\n",
      "conn_speed                         8\n",
      "os_id                              6\n",
      "day_part                           4\n",
      "region_id                         53\n",
      "browser_id                         9\n",
      "hashed_app_id                      1\n",
      "interstitial                       2\n",
      "device_id                          5\n",
      "creative_id                       18\n",
      "browser                           23\n",
      "browser_version                  492\n",
      "os                                15\n",
      "os_version                       158\n",
      "device_model                     685\n",
      "device_manufacturer               78\n",
      "device_type                        4\n",
      "exchange_id_cs_vcr                25\n",
      "exchange_id_cs_vrate              61\n",
      "exchange_id_cs_ctr                95\n",
      "exchange_id_cs_category_id      3284\n",
      "exchange_id_cs_site_id         38834\n",
      "category_id                     2065\n",
      "cookieless                         2\n",
      "cross_device                       2\n",
      "id_vintage                         4\n",
      "exchange_viewability_rate        100\n",
      "exchange_ctr                      49\n",
      "exchange_vcr                       1\n",
      "conversion_target                  2\n",
      "mm_1065314_bpf                   125\n",
      "mm_1211337_bpf                     2\n",
      "mm_1211338_bpf                     2\n",
      "mm_1211339_bpf                     2\n",
      "mm_1211340_bpf                     2\n",
      "mm_1211341_bpf                     2\n",
      "mm_366510_bpf                    201\n",
      "mm_366513_bpf                    131\n",
      "mm_422899_bpf                     14\n",
      "mm_525050_bpf                    173\n",
      "mm_762574_bpf                      2\n",
      "mm_1065314_pixel                   2\n",
      "mm_1211337_pixel                   2\n",
      "mm_1211338_pixel                   2\n",
      "mm_1211339_pixel                   2\n",
      "mm_1211340_pixel                   2\n",
      "mm_1211341_pixel                   2\n",
      "mm_366510_pixel                    2\n",
      "mm_366513_pixel                    2\n",
      "mm_422899_pixel                    2\n",
      "mm_525050_pixel                    2\n",
      "mm_762574_pixel                    2\n",
      "mm_1065314_bpr                121776\n",
      "mm_1211337_bpr                     4\n",
      "mm_1211338_bpr                     5\n",
      "mm_1211339_bpr                     3\n",
      "mm_1211340_bpr                     4\n",
      "mm_1211341_bpr                     4\n",
      "mm_366510_bpr                 121150\n",
      "mm_366513_bpr                 120188\n",
      "mm_422899_bpr                 100061\n",
      "mm_525050_bpr                  84858\n",
      "mm_762574_bpr                      6\n",
      "column_weights                     2\n"
     ]
    }
   ],
   "source": [
    "unique_counter = df.nunique()\n",
    "cols = df.columns\n",
    "for (col,unique_ct) in zip(cols,unique_counter):\n",
    "    print ('{:<30}{:>6}'.format(col, unique_ct))"
   ]
  },
  {
   "cell_type": "markdown",
   "metadata": {},
   "source": [
    "Exploring the data yielded that data is not OHE"
   ]
  },
  {
   "cell_type": "code",
   "execution_count": 22,
   "metadata": {
    "scrolled": true
   },
   "outputs": [
    {
     "data": {
      "text/plain": [
       "browser_language_id\n",
       "0        97092\n",
       "24931        8\n",
       "24932       67\n",
       "24936        1\n",
       "24938      317\n",
       "24939        1\n",
       "24944        2\n",
       "24948       59\n",
       "25705       22\n",
       "25954        1\n",
       "25956      328\n",
       "25960        1\n",
       "25972       53\n",
       "26209       13\n",
       "26466       30\n",
       "26723        1\n",
       "26740       24\n",
       "26746      189\n",
       "26982       10\n",
       "26984       17\n",
       "26995        3\n",
       "26998      137\n",
       "27507       33\n",
       "27509        9\n",
       "27749       49\n",
       "27757       64\n",
       "27758       53\n",
       "27760      338\n",
       "27763        2\n",
       "27764       32\n",
       "         ...  \n",
       "28526       25\n",
       "28530       40\n",
       "29281      125\n",
       "29286      355\n",
       "29288       54\n",
       "29293       11\n",
       "29299       43\n",
       "29300      121\n",
       "29301       42\n",
       "29537        1\n",
       "29538        4\n",
       "29539       20\n",
       "29541     2877\n",
       "29544        1\n",
       "29549        4\n",
       "29797        2\n",
       "29801      130\n",
       "29804       27\n",
       "29808      324\n",
       "30051        1\n",
       "30055        8\n",
       "30056       27\n",
       "30066      215\n",
       "30074        1\n",
       "30316        4\n",
       "30323       29\n",
       "30569       91\n",
       "31075        1\n",
       "31085        1\n",
       "31329        2\n",
       "Length: 66, dtype: int64"
      ]
     },
     "execution_count": 22,
     "metadata": {},
     "output_type": "execute_result"
    }
   ],
   "source": [
    "#distribution of unique values of browser_language_id\n",
    "df.groupby(['browser_language_id']).size()\n",
    "#majority of language_id scores are skewed towards '0'"
   ]
  },
  {
   "cell_type": "code",
   "execution_count": 23,
   "metadata": {},
   "outputs": [
    {
     "data": {
      "text/plain": [
       "isp_id\n",
       "30000       595\n",
       "30001    351431\n",
       "30003    114172\n",
       "30004      2752\n",
       "30005      3768\n",
       "30006      2748\n",
       "30007       431\n",
       "30009      7099\n",
       "30010     44973\n",
       "30011         3\n",
       "30013       100\n",
       "30014    198005\n",
       "30016     39115\n",
       "30017        22\n",
       "30018      1990\n",
       "30019     20505\n",
       "30020      2173\n",
       "30021         4\n",
       "30022       206\n",
       "30024      1333\n",
       "30025     28105\n",
       "30026      4601\n",
       "30027     11793\n",
       "30028      8438\n",
       "30029        20\n",
       "30030         1\n",
       "30031    106741\n",
       "30032      7776\n",
       "30033         2\n",
       "30035       293\n",
       "30037      1364\n",
       "30038      2730\n",
       "30040       186\n",
       "30042       158\n",
       "30045         3\n",
       "30048        21\n",
       "30049         3\n",
       "30062        32\n",
       "30072        53\n",
       "30074        62\n",
       "30075         7\n",
       "30078         4\n",
       "30080        15\n",
       "30081     22417\n",
       "30092       152\n",
       "30109        15\n",
       "30112        28\n",
       "30116         1\n",
       "30129        20\n",
       "30133        51\n",
       "30147     24454\n",
       "30148      3633\n",
       "30186      7236\n",
       "30199         2\n",
       "30200        17\n",
       "30204         1\n",
       "dtype: int64"
      ]
     },
     "execution_count": 23,
     "metadata": {},
     "output_type": "execute_result"
    }
   ],
   "source": [
    "df.groupby(['isp_id']).size()"
   ]
  },
  {
   "cell_type": "code",
   "execution_count": 24,
   "metadata": {},
   "outputs": [
    {
     "data": {
      "text/plain": [
       "device_id\n",
       "40999       296\n",
       "41000    266806\n",
       "42000     32872\n",
       "43000    721883\n",
       "46000         3\n",
       "dtype: int64"
      ]
     },
     "execution_count": 24,
     "metadata": {},
     "output_type": "execute_result"
    }
   ],
   "source": [
    "#distribution of unique values of device_id\n",
    "df.groupby(['device_id']).size()"
   ]
  },
  {
   "cell_type": "code",
   "execution_count": 25,
   "metadata": {},
   "outputs": [
    {
     "data": {
      "text/plain": [
       "site_id\n",
       "-2146794125     1\n",
       "-2096423926     1\n",
       "-1960461371     1\n",
       "-1853154013     2\n",
       "-1811249454     1\n",
       "-1769306210    21\n",
       "-1742357937     6\n",
       "-1741648729     1\n",
       "-1718977439     1\n",
       "-1567979967     8\n",
       "-1467319292     1\n",
       "-1458927991     4\n",
       "-1425373223     1\n",
       "-1423591223     4\n",
       "-1398425405    18\n",
       "-1333101564     6\n",
       "-1274378708     1\n",
       "-1230653264     1\n",
       "-1222264603     1\n",
       "-1113212730     2\n",
       "-963961382      1\n",
       "-905241483     20\n",
       "-846559314      6\n",
       "-838170905      1\n",
       "-829743231      1\n",
       "-821394047      1\n",
       "-695564731      2\n",
       "-678787319      1\n",
       "-635062095      3\n",
       "-589934583     10\n",
       "               ..\n",
       " 2143737427     1\n",
       " 2143796598     2\n",
       " 2143851702     2\n",
       " 2144001460     1\n",
       " 2144020042     1\n",
       " 2144051761    18\n",
       " 2144491731     3\n",
       " 2144538113     1\n",
       " 2144655272     4\n",
       " 2144783501     1\n",
       " 2144944497     4\n",
       " 2144974002     5\n",
       " 2144990801     1\n",
       " 2145149648     2\n",
       " 2145296767    79\n",
       " 2145346423     5\n",
       " 2145361034     6\n",
       " 2145489623     1\n",
       " 2145547799     3\n",
       " 2145624694     1\n",
       " 2145644264     1\n",
       " 2145727545    10\n",
       " 2145975912     1\n",
       " 2145993530     1\n",
       " 2146145565     2\n",
       " 2146155331     1\n",
       " 2146667731     2\n",
       " 2146871301     1\n",
       " 2147083469    14\n",
       " 2147429265     6\n",
       "Length: 32855, dtype: int64"
      ]
     },
     "execution_count": 25,
     "metadata": {},
     "output_type": "execute_result"
    }
   ],
   "source": [
    "#distribution of unique values of browser\n",
    "df.groupby(['site_id']).size()"
   ]
  },
  {
   "cell_type": "markdown",
   "metadata": {},
   "source": [
    "### missing value analysis"
   ]
  },
  {
   "cell_type": "code",
   "execution_count": 26,
   "metadata": {},
   "outputs": [
    {
     "name": "stdout",
     "output_type": "stream",
     "text": [
      "browser                         4117\n",
      "browser_version               134279\n",
      "os                              6965\n",
      "os_version                     30757\n",
      "device_model                    2675\n",
      "device_manufacturer             2675\n",
      "device_type                     2384\n"
     ]
    }
   ],
   "source": [
    "# the following code prints number of nulls from df\n",
    "null_cts = pd.isnull(df).sum()\n",
    "cols = df.columns\n",
    "for (col,null_ct) in zip(cols,null_cts):\n",
    "    if null_ct > 0:\n",
    "        print ('{:<30}{:>6}'.format(col, null_ct))"
   ]
  },
  {
   "cell_type": "markdown",
   "metadata": {},
   "source": [
    "missing values in positive class only i.e. conversion_target == 1"
   ]
  },
  {
   "cell_type": "code",
   "execution_count": 27,
   "metadata": {},
   "outputs": [
    {
     "name": "stdout",
     "output_type": "stream",
     "text": [
      "browser                       77      0.35\n",
      "browser_version               2734    12.51\n",
      "os                            156     0.71\n",
      "os_version                    745     3.41\n",
      "device_model                  54      0.25\n",
      "device_manufacturer           54      0.25\n",
      "device_type                   53      0.24\n"
     ]
    }
   ],
   "source": [
    "df_pos = df.iloc[np.where(df['conversion_target'] == 1)[0]]\n",
    "null_cts = pd.isnull(df_pos).sum()\n",
    "cols = df_pos.columns\n",
    "for (col,null_ct) in zip(cols,null_cts):\n",
    "    if null_ct > 0:\n",
    "        print ('{:<30}{:<8}{:.2f}'.format(col, null_ct,null_ct*100/len(df_pos)))\n",
    "#last col represent percentage of nulls from total positve class"
   ]
  },
  {
   "cell_type": "code",
   "execution_count": null,
   "metadata": {
    "collapsed": true
   },
   "outputs": [],
   "source": []
  },
  {
   "cell_type": "code",
   "execution_count": null,
   "metadata": {
    "collapsed": true
   },
   "outputs": [],
   "source": []
  },
  {
   "cell_type": "code",
   "execution_count": null,
   "metadata": {
    "collapsed": true
   },
   "outputs": [],
   "source": []
  },
  {
   "cell_type": "code",
   "execution_count": null,
   "metadata": {
    "collapsed": true
   },
   "outputs": [],
   "source": []
  },
  {
   "cell_type": "code",
   "execution_count": null,
   "metadata": {
    "collapsed": true
   },
   "outputs": [],
   "source": [
    "# df_dict = {} #dictionary to store dataframes\n",
    "# for i in range(len(paths)):\n",
    "#     df_dict[str(i)] = pd.read_csv(paths[i],index_col=None, header=0)"
   ]
  },
  {
   "cell_type": "code",
   "execution_count": null,
   "metadata": {
    "collapsed": true
   },
   "outputs": [],
   "source": [
    "# i = 0 #initialization for a dataframe\n",
    "# for key in df_dict.keys():\n",
    "#     if i == 0:\n",
    "#         df = df_dict[key]\n",
    "#         i += 1\n",
    "#     else:\n",
    "#         if sum(df.columns == df_dict[key].columns) == len(df.columns):\n",
    "#             df = df.append(df_dict[key]).reset_index(drop=True)\n",
    "#         else:\n",
    "#             print ('df_dict[{}] has columns mismatch'.format(key))"
   ]
  }
 ],
 "metadata": {
  "kernelspec": {
   "display_name": "Python 3",
   "language": "python",
   "name": "python3"
  },
  "language_info": {
   "codemirror_mode": {
    "name": "ipython",
    "version": 3
   },
   "file_extension": ".py",
   "mimetype": "text/x-python",
   "name": "python",
   "nbconvert_exporter": "python",
   "pygments_lexer": "ipython3",
   "version": "3.6.3"
  }
 },
 "nbformat": 4,
 "nbformat_minor": 2
}
