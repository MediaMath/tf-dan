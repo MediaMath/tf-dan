{
 "cells": [
  {
   "cell_type": "markdown",
   "metadata": {},
   "source": [
    "SMOTE is performed on CPC dataset."
   ]
  },
  {
   "cell_type": "code",
   "execution_count": 73,
   "metadata": {},
   "outputs": [],
   "source": [
    "import numpy as np\n",
    "import pandas as pd\n",
    "import json\n",
    "import glob, os\n",
    "from imblearn.over_sampling import SMOTE\n",
    "from sklearn.linear_model import LogisticRegression\n",
    "import random\n",
    "from sklearn.model_selection import StratifiedShuffleSplit\n",
    "from collections import Counter\n",
    "from sklearn.ensemble import RandomForestClassifier\n",
    "from sklearn.model_selection import GridSearchCV\n",
    "from sklearn.metrics import precision_recall_fscore_support\n",
    "from sklearn.metrics import roc_auc_score\n",
    "from sklearn.metrics import log_loss"
   ]
  },
  {
   "cell_type": "code",
   "execution_count": 38,
   "metadata": {},
   "outputs": [],
   "source": [
    "categories_index_path = '../data/processed/mm-cpc-generator/train/categorical-vocab.json'\n",
    "cat_idx = open(categories_index_path)\n",
    "cat_idx_read = cat_idx.read()\n",
    "cat_index = json.loads(cat_idx_read)"
   ]
  },
  {
   "cell_type": "code",
   "execution_count": 39,
   "metadata": {},
   "outputs": [
    {
     "name": "stdout",
     "output_type": "stream",
     "text": [
      "There are total 202 csv files in the folder\n"
     ]
    }
   ],
   "source": [
    "#identifying all the csv paths from the train processed folder\n",
    "data_path = '../data/processed/mm-cpc-generator/train/'\n",
    "data_paths = glob.glob(os.path.join(data_path,'*.csv'))\n",
    "print ('There are total {} csv files in the folder'.format(len(data_paths)))"
   ]
  },
  {
   "cell_type": "code",
   "execution_count": 40,
   "metadata": {},
   "outputs": [
    {
     "name": "stdout",
     "output_type": "stream",
     "text": [
      "out of which, 101 are positve class csv files\n"
     ]
    }
   ],
   "source": [
    "#filtering positive class paths from all the csv files\n",
    "pos_paths = []\n",
    "for path in data_paths:\n",
    "    if 'positive' in path:\n",
    "        pos_paths.append(path)\n",
    "print('out of which, {} are positve class csv files'.format(len(pos_paths)))"
   ]
  },
  {
   "cell_type": "code",
   "execution_count": 41,
   "metadata": {},
   "outputs": [],
   "source": [
    "#importing all positive class csv s as dataframes and then concatenate them \n",
    "pos_files_dict = {}\n",
    "pos_df = pd.DataFrame()\n",
    "i = 0\n",
    "for path in pos_paths:\n",
    "    pos_files_dict[i] = pd.read_csv(path,index_col=None, header=0)\n",
    "    pos_df = pd.concat([pos_df,pos_files_dict[i]])\n",
    "    i +=1\n",
    "\n",
    "pos_df = pos_df.reset_index(drop=True) #resets index of concatenated dataframe"
   ]
  },
  {
   "cell_type": "code",
   "execution_count": 42,
   "metadata": {},
   "outputs": [
    {
     "data": {
      "text/html": [
       "<div>\n",
       "<style>\n",
       "    .dataframe thead tr:only-child th {\n",
       "        text-align: right;\n",
       "    }\n",
       "\n",
       "    .dataframe thead th {\n",
       "        text-align: left;\n",
       "    }\n",
       "\n",
       "    .dataframe tbody tr th {\n",
       "        vertical-align: top;\n",
       "    }\n",
       "</style>\n",
       "<table border=\"1\" class=\"dataframe\">\n",
       "  <thead>\n",
       "    <tr style=\"text-align: right;\">\n",
       "      <th></th>\n",
       "      <th>exchange_id</th>\n",
       "      <th>user_frequency</th>\n",
       "      <th>site_id</th>\n",
       "      <th>deal_id</th>\n",
       "      <th>channel_type</th>\n",
       "      <th>size</th>\n",
       "      <th>week_part</th>\n",
       "      <th>day_of_week</th>\n",
       "      <th>dma_id</th>\n",
       "      <th>isp_id</th>\n",
       "      <th>...</th>\n",
       "      <th>am_859849_bpr</th>\n",
       "      <th>mm_1213050_bpr</th>\n",
       "      <th>mm_1213051_bpr</th>\n",
       "      <th>mm_1213052_bpr</th>\n",
       "      <th>mm_1213053_bpr</th>\n",
       "      <th>mm_1213054_bpr</th>\n",
       "      <th>mm_1213056_bpr</th>\n",
       "      <th>mm_1213057_bpr</th>\n",
       "      <th>mm_1213058_bpr</th>\n",
       "      <th>column_weights</th>\n",
       "    </tr>\n",
       "  </thead>\n",
       "  <tbody>\n",
       "    <tr>\n",
       "      <th>0</th>\n",
       "      <td>44</td>\n",
       "      <td>99</td>\n",
       "      <td>4383729</td>\n",
       "      <td>0</td>\n",
       "      <td>2</td>\n",
       "      <td>55968224</td>\n",
       "      <td>0</td>\n",
       "      <td>2</td>\n",
       "      <td>80012</td>\n",
       "      <td>30001</td>\n",
       "      <td>...</td>\n",
       "      <td>0.0</td>\n",
       "      <td>0.0</td>\n",
       "      <td>0.0</td>\n",
       "      <td>0.0</td>\n",
       "      <td>0.0</td>\n",
       "      <td>0.0</td>\n",
       "      <td>0.0</td>\n",
       "      <td>0.0</td>\n",
       "      <td>0.0</td>\n",
       "      <td>8.561625</td>\n",
       "    </tr>\n",
       "    <tr>\n",
       "      <th>1</th>\n",
       "      <td>30</td>\n",
       "      <td>99</td>\n",
       "      <td>2057062530</td>\n",
       "      <td>0</td>\n",
       "      <td>2</td>\n",
       "      <td>27918576</td>\n",
       "      <td>0</td>\n",
       "      <td>1</td>\n",
       "      <td>80097</td>\n",
       "      <td>30003</td>\n",
       "      <td>...</td>\n",
       "      <td>0.0</td>\n",
       "      <td>0.0</td>\n",
       "      <td>0.0</td>\n",
       "      <td>0.0</td>\n",
       "      <td>0.0</td>\n",
       "      <td>0.0</td>\n",
       "      <td>0.0</td>\n",
       "      <td>0.0</td>\n",
       "      <td>0.0</td>\n",
       "      <td>8.561625</td>\n",
       "    </tr>\n",
       "    <tr>\n",
       "      <th>2</th>\n",
       "      <td>1005</td>\n",
       "      <td>99</td>\n",
       "      <td>669618330</td>\n",
       "      <td>187073</td>\n",
       "      <td>2</td>\n",
       "      <td>41943400</td>\n",
       "      <td>0</td>\n",
       "      <td>1</td>\n",
       "      <td>80017</td>\n",
       "      <td>30001</td>\n",
       "      <td>...</td>\n",
       "      <td>0.0</td>\n",
       "      <td>0.0</td>\n",
       "      <td>0.0</td>\n",
       "      <td>0.0</td>\n",
       "      <td>0.0</td>\n",
       "      <td>0.0</td>\n",
       "      <td>0.0</td>\n",
       "      <td>0.0</td>\n",
       "      <td>0.0</td>\n",
       "      <td>8.561625</td>\n",
       "    </tr>\n",
       "    <tr>\n",
       "      <th>3</th>\n",
       "      <td>1005</td>\n",
       "      <td>99</td>\n",
       "      <td>967440096</td>\n",
       "      <td>187073</td>\n",
       "      <td>2</td>\n",
       "      <td>41943400</td>\n",
       "      <td>0</td>\n",
       "      <td>2</td>\n",
       "      <td>80003</td>\n",
       "      <td>30025</td>\n",
       "      <td>...</td>\n",
       "      <td>0.0</td>\n",
       "      <td>0.0</td>\n",
       "      <td>0.0</td>\n",
       "      <td>0.0</td>\n",
       "      <td>0.0</td>\n",
       "      <td>0.0</td>\n",
       "      <td>0.0</td>\n",
       "      <td>0.0</td>\n",
       "      <td>0.0</td>\n",
       "      <td>8.561625</td>\n",
       "    </tr>\n",
       "    <tr>\n",
       "      <th>4</th>\n",
       "      <td>30</td>\n",
       "      <td>99</td>\n",
       "      <td>1278868291</td>\n",
       "      <td>0</td>\n",
       "      <td>2</td>\n",
       "      <td>27918576</td>\n",
       "      <td>0</td>\n",
       "      <td>1</td>\n",
       "      <td>80201</td>\n",
       "      <td>30014</td>\n",
       "      <td>...</td>\n",
       "      <td>0.0</td>\n",
       "      <td>0.0</td>\n",
       "      <td>0.0</td>\n",
       "      <td>0.0</td>\n",
       "      <td>0.0</td>\n",
       "      <td>0.0</td>\n",
       "      <td>0.0</td>\n",
       "      <td>0.0</td>\n",
       "      <td>0.0</td>\n",
       "      <td>8.561625</td>\n",
       "    </tr>\n",
       "  </tbody>\n",
       "</table>\n",
       "<p>5 rows × 97 columns</p>\n",
       "</div>"
      ],
      "text/plain": [
       "   exchange_id  user_frequency     site_id  deal_id  channel_type      size  \\\n",
       "0           44              99     4383729        0             2  55968224   \n",
       "1           30              99  2057062530        0             2  27918576   \n",
       "2         1005              99   669618330   187073             2  41943400   \n",
       "3         1005              99   967440096   187073             2  41943400   \n",
       "4           30              99  1278868291        0             2  27918576   \n",
       "\n",
       "   week_part  day_of_week  dma_id  isp_id       ...        am_859849_bpr  \\\n",
       "0          0            2   80012   30001       ...                  0.0   \n",
       "1          0            1   80097   30003       ...                  0.0   \n",
       "2          0            1   80017   30001       ...                  0.0   \n",
       "3          0            2   80003   30025       ...                  0.0   \n",
       "4          0            1   80201   30014       ...                  0.0   \n",
       "\n",
       "   mm_1213050_bpr  mm_1213051_bpr  mm_1213052_bpr  mm_1213053_bpr  \\\n",
       "0             0.0             0.0             0.0             0.0   \n",
       "1             0.0             0.0             0.0             0.0   \n",
       "2             0.0             0.0             0.0             0.0   \n",
       "3             0.0             0.0             0.0             0.0   \n",
       "4             0.0             0.0             0.0             0.0   \n",
       "\n",
       "   mm_1213054_bpr  mm_1213056_bpr  mm_1213057_bpr  mm_1213058_bpr  \\\n",
       "0             0.0             0.0             0.0             0.0   \n",
       "1             0.0             0.0             0.0             0.0   \n",
       "2             0.0             0.0             0.0             0.0   \n",
       "3             0.0             0.0             0.0             0.0   \n",
       "4             0.0             0.0             0.0             0.0   \n",
       "\n",
       "   column_weights  \n",
       "0        8.561625  \n",
       "1        8.561625  \n",
       "2        8.561625  \n",
       "3        8.561625  \n",
       "4        8.561625  \n",
       "\n",
       "[5 rows x 97 columns]"
      ]
     },
     "execution_count": 42,
     "metadata": {},
     "output_type": "execute_result"
    }
   ],
   "source": [
    "pos_df.head()"
   ]
  },
  {
   "cell_type": "code",
   "execution_count": 43,
   "metadata": {},
   "outputs": [
    {
     "name": "stdout",
     "output_type": "stream",
     "text": [
      "number of positive class labeled datarows: 400979\n"
     ]
    }
   ],
   "source": [
    "print('number of positive class labeled datarows: {}'.format(pos_df.shape[0]))"
   ]
  },
  {
   "cell_type": "code",
   "execution_count": 44,
   "metadata": {},
   "outputs": [],
   "source": [
    "#pick 12500 samples randomly from pos_df\n",
    "a = random.sample(range(pos_df.shape[0]), 12500)\n",
    "pos_df_sample = pos_df.iloc[a,:].reset_index(drop=True)"
   ]
  },
  {
   "cell_type": "code",
   "execution_count": 45,
   "metadata": {},
   "outputs": [
    {
     "data": {
      "text/plain": [
       "(12500, 97)"
      ]
     },
     "execution_count": 45,
     "metadata": {},
     "output_type": "execute_result"
    }
   ],
   "source": [
    "pos_df_sample.shape"
   ]
  },
  {
   "cell_type": "code",
   "execution_count": 46,
   "metadata": {
    "collapsed": true
   },
   "outputs": [],
   "source": [
    "pos_df_sample['y'] = 1"
   ]
  },
  {
   "cell_type": "code",
   "execution_count": 47,
   "metadata": {},
   "outputs": [
    {
     "data": {
      "text/plain": [
       "(12500, 98)"
      ]
     },
     "execution_count": 47,
     "metadata": {},
     "output_type": "execute_result"
    }
   ],
   "source": [
    "pos_df_sample.shape"
   ]
  },
  {
   "cell_type": "code",
   "execution_count": 48,
   "metadata": {},
   "outputs": [],
   "source": [
    "neg_df = pd.DataFrame()\n",
    "i = 0\n",
    "for path in data_paths:\n",
    "    if 'negative' in path:\n",
    "        temp = pd.read_csv(path,index_col=None, header=0)\n",
    "        neg_df = pd.concat([neg_df,temp])\n",
    "        i +=1\n",
    "        if neg_df.shape[0] > 100000: #limiting loading all negative datapoints to 100k\n",
    "            break\n",
    "\n",
    "neg_df_sample = neg_df.reset_index(drop=True)"
   ]
  },
  {
   "cell_type": "code",
   "execution_count": 49,
   "metadata": {},
   "outputs": [
    {
     "data": {
      "text/plain": [
       "(102990, 97)"
      ]
     },
     "execution_count": 49,
     "metadata": {},
     "output_type": "execute_result"
    }
   ],
   "source": [
    "neg_df_sample.shape"
   ]
  },
  {
   "cell_type": "code",
   "execution_count": 50,
   "metadata": {},
   "outputs": [],
   "source": [
    "neg_df_sample['y'] = 0"
   ]
  },
  {
   "cell_type": "code",
   "execution_count": 51,
   "metadata": {},
   "outputs": [
    {
     "data": {
      "text/plain": [
       "(102990, 98)"
      ]
     },
     "execution_count": 51,
     "metadata": {},
     "output_type": "execute_result"
    }
   ],
   "source": [
    "neg_df_sample.shape"
   ]
  },
  {
   "cell_type": "code",
   "execution_count": 52,
   "metadata": {},
   "outputs": [],
   "source": [
    "df = pd.concat([neg_df_sample,pos_df_sample]).reset_index(drop=True)"
   ]
  },
  {
   "cell_type": "code",
   "execution_count": 53,
   "metadata": {},
   "outputs": [
    {
     "data": {
      "text/plain": [
       "(115490, 98)"
      ]
     },
     "execution_count": 53,
     "metadata": {},
     "output_type": "execute_result"
    }
   ],
   "source": [
    "df.shape"
   ]
  },
  {
   "cell_type": "code",
   "execution_count": 54,
   "metadata": {},
   "outputs": [],
   "source": [
    "for col in df.columns:\n",
    "    if col in cat_index.keys(): #checking if col is part of categorical columns \n",
    "        df[col] = df[col].astype('category')\n",
    "    else:\n",
    "        df[col] = df[col].astype('int64')"
   ]
  },
  {
   "cell_type": "code",
   "execution_count": 55,
   "metadata": {},
   "outputs": [],
   "source": [
    "cat_columns = df.select_dtypes(['category']).columns #filter categorical columns\n",
    "df[cat_columns] = df[cat_columns].apply(lambda x: x.cat.codes)"
   ]
  },
  {
   "cell_type": "code",
   "execution_count": 56,
   "metadata": {},
   "outputs": [],
   "source": [
    "#exporting y label from main dataframe to create labels dataframe\n",
    "y = df[['y']]"
   ]
  },
  {
   "cell_type": "code",
   "execution_count": 57,
   "metadata": {},
   "outputs": [
    {
     "data": {
      "text/plain": [
       "(115490, 97)"
      ]
     },
     "execution_count": 57,
     "metadata": {},
     "output_type": "execute_result"
    }
   ],
   "source": [
    "#dropping y label from main dataframe to build input features (X) dataframe\n",
    "df = df.drop('y', axis=1)\n",
    "df.shape"
   ]
  },
  {
   "cell_type": "code",
   "execution_count": 58,
   "metadata": {},
   "outputs": [],
   "source": [
    "#generates indices using stratified shuffling method to create train and test datasets\n",
    "sss = StratifiedShuffleSplit(n_splits=2,train_size=0.8,test_size=0.2,random_state=42)\n",
    "idx1,idx2 = sss.split(df, y, groups=None)"
   ]
  },
  {
   "cell_type": "code",
   "execution_count": 59,
   "metadata": {},
   "outputs": [
    {
     "data": {
      "text/plain": [
       "(92392, 23098)"
      ]
     },
     "execution_count": 59,
     "metadata": {},
     "output_type": "execute_result"
    }
   ],
   "source": [
    "len(idx1[0]),len(idx1[1])"
   ]
  },
  {
   "cell_type": "code",
   "execution_count": 60,
   "metadata": {},
   "outputs": [],
   "source": [
    "#sampling entire data into train and test dataframes using indices generated through SSS\n",
    "x_tr,x_te = df.iloc[idx1[0],:].reset_index(drop=True),df.iloc[idx1[1],:].reset_index(drop=True)\n",
    "y_tr,y_te = y.iloc[idx1[0],:].reset_index(drop=True),y.iloc[idx1[1],:].reset_index(drop=True)"
   ]
  },
  {
   "cell_type": "code",
   "execution_count": 61,
   "metadata": {},
   "outputs": [
    {
     "name": "stderr",
     "output_type": "stream",
     "text": [
      "/Users/dc/anaconda3/lib/python3.6/site-packages/sklearn/utils/validation.py:578: DataConversionWarning: A column-vector y was passed when a 1d array was expected. Please change the shape of y to (n_samples, ), for example using ravel().\n",
      "  y = column_or_1d(y, warn=True)\n"
     ]
    }
   ],
   "source": [
    "sm = SMOTE(random_state=42,k_neighbors=20)\n",
    "x_res, y_res = sm.fit_sample(x_tr, y_tr)"
   ]
  },
  {
   "cell_type": "code",
   "execution_count": 62,
   "metadata": {},
   "outputs": [
    {
     "name": "stdout",
     "output_type": "stream",
     "text": [
      "Original dataset shape Counter({0: 82392, 1: 10000})\n",
      "Resampled dataset shape Counter({0: 82392, 1: 82392})\n",
      "Test dataset shape Counter({0: 20598, 1: 2500})\n"
     ]
    }
   ],
   "source": [
    "print('Original dataset shape {}'.format(Counter(y_tr['y'])))\n",
    "print('Resampled dataset shape {}'.format(Counter(y_res)))\n",
    "print ('Test dataset shape {}'.format(Counter(y_te['y'])))"
   ]
  },
  {
   "cell_type": "code",
   "execution_count": 63,
   "metadata": {},
   "outputs": [],
   "source": [
    "x_r = pd.DataFrame(x_res, columns = x_tr.columns)\n",
    "x_r[cat_columns] = np.round(x_r[cat_columns])\n",
    "\n",
    "y_r = pd.DataFrame(y_res, columns = y_tr.columns)"
   ]
  },
  {
   "cell_type": "code",
   "execution_count": 64,
   "metadata": {},
   "outputs": [
    {
     "name": "stdout",
     "output_type": "stream",
     "text": [
      "shape of train data after SMOTE: (164784, 97)\n"
     ]
    }
   ],
   "source": [
    "print ('shape of train data after SMOTE: {}'.format(x_r.shape))"
   ]
  },
  {
   "cell_type": "code",
   "execution_count": 65,
   "metadata": {},
   "outputs": [],
   "source": [
    "shuffled_idx = random.sample(range(x_r.shape[0]),x_r.shape[0])"
   ]
  },
  {
   "cell_type": "code",
   "execution_count": 66,
   "metadata": {},
   "outputs": [],
   "source": [
    "#shuffling data post SMOTE\n",
    "x_r = x_r.iloc[shuffled_idx,:]\n",
    "y_r = y_r.iloc[shuffled_idx,:]"
   ]
  },
  {
   "cell_type": "code",
   "execution_count": 67,
   "metadata": {},
   "outputs": [
    {
     "data": {
      "text/plain": [
       "GridSearchCV(cv=5, error_score='raise',\n",
       "       estimator=RandomForestClassifier(bootstrap=True, class_weight=None, criterion='gini',\n",
       "            max_depth=None, max_features='auto', max_leaf_nodes=None,\n",
       "            min_impurity_decrease=0.0, min_impurity_split=None,\n",
       "            min_samples_leaf=1, min_samples_split=2,\n",
       "            min_weight_fraction_leaf=0.0, n_estimators=10, n_jobs=1,\n",
       "            oob_score=False, random_state=None, verbose=0,\n",
       "            warm_start=False),\n",
       "       fit_params=None, iid=True, n_jobs=1,\n",
       "       param_grid={'n_estimators': [20], 'random_state': [42]},\n",
       "       pre_dispatch='2*n_jobs', refit=True, return_train_score='warn',\n",
       "       scoring=None, verbose=0)"
      ]
     },
     "execution_count": 67,
     "metadata": {},
     "output_type": "execute_result"
    }
   ],
   "source": [
    "param_grid = {'n_estimators':  [20],'random_state': [42]}\n",
    "grid = GridSearchCV(RandomForestClassifier(), param_grid=param_grid, cv=5)\n",
    "grid.fit(x_r,y_r['y'].ravel())"
   ]
  },
  {
   "cell_type": "code",
   "execution_count": 68,
   "metadata": {},
   "outputs": [
    {
     "name": "stdout",
     "output_type": "stream",
     "text": [
      "best mean cross-validation score: 1.000\n",
      "best parameters: {'n_estimators': 20, 'random_state': 42}\n"
     ]
    }
   ],
   "source": [
    "print(\"best mean cross-validation score: {:.3f}\".format(grid.best_score_))\n",
    "print(\"best parameters: {}\".format(grid.best_params_))\n",
    "#print(\"test-set score: {:.3f}\".format(grid.score(x_te, y_te)))\n"
   ]
  },
  {
   "cell_type": "code",
   "execution_count": 69,
   "metadata": {},
   "outputs": [
    {
     "data": {
      "text/plain": [
       "array([0, 0, 0, ..., 0, 0, 0])"
      ]
     },
     "execution_count": 69,
     "metadata": {},
     "output_type": "execute_result"
    }
   ],
   "source": [
    "grid.predict(x_te)"
   ]
  },
  {
   "cell_type": "code",
   "execution_count": 70,
   "metadata": {},
   "outputs": [
    {
     "data": {
      "text/plain": [
       "Counter({0: 20598, 1: 2500})"
      ]
     },
     "execution_count": 70,
     "metadata": {},
     "output_type": "execute_result"
    }
   ],
   "source": [
    "Counter(grid.predict(x_te))"
   ]
  },
  {
   "cell_type": "code",
   "execution_count": 71,
   "metadata": {},
   "outputs": [
    {
     "name": "stdout",
     "output_type": "stream",
     "text": [
      "precision: 1.0, recall: 1.0, fscore: 1.0\n"
     ]
    }
   ],
   "source": [
    "\n",
    "y_pr = grid.predict(x_te)\n",
    "p, r , f, s = precision_recall_fscore_support(y_te, y_pr, average='binary')\n",
    "print('precision: {}, recall: {}, fscore: {}'.format(p,r,f))"
   ]
  },
  {
   "cell_type": "code",
   "execution_count": 74,
   "metadata": {},
   "outputs": [
    {
     "name": "stdout",
     "output_type": "stream",
     "text": [
      "roc_auc:1.0\n"
     ]
    }
   ],
   "source": [
    "y_pr_proba = grid.predict_proba(x_te)\n",
    "y_pr_proba_1 = y_pr_proba[:,1] #probas for class being '1'\n",
    "area = roc_auc_score(y_te, y_pr_proba_1)\n",
    "print('roc_auc:{}'.format(area))"
   ]
  },
  {
   "cell_type": "code",
   "execution_count": 80,
   "metadata": {},
   "outputs": [
    {
     "name": "stdout",
     "output_type": "stream",
     "text": [
      "cross_entropy_loss :0.00190\n"
     ]
    }
   ],
   "source": [
    "cross_entropy_loss = log_loss(y_te,y_pr_proba)\n",
    "print('cross_entropy_loss :{:.5f}'.format(cross_entropy_loss))"
   ]
  },
  {
   "cell_type": "code",
   "execution_count": null,
   "metadata": {
    "collapsed": true
   },
   "outputs": [],
   "source": []
  }
 ],
 "metadata": {
  "kernelspec": {
   "display_name": "Python 3",
   "language": "python",
   "name": "python3"
  },
  "language_info": {
   "codemirror_mode": {
    "name": "ipython",
    "version": 3
   },
   "file_extension": ".py",
   "mimetype": "text/x-python",
   "name": "python",
   "nbconvert_exporter": "python",
   "pygments_lexer": "ipython3",
   "version": "3.6.3"
  }
 },
 "nbformat": 4,
 "nbformat_minor": 2
}
