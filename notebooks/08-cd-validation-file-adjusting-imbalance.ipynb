{
 "cells": [
  {
   "cell_type": "code",
   "execution_count": 23,
   "metadata": {},
   "outputs": [],
   "source": [
    "import os\n",
    "import sys\n",
    "import csv\n",
    "import glob\n",
    "import json\n",
    "import random\n",
    "\n",
    "import numpy as np\n",
    "import pandas as pd\n",
    "import tensorflow as tf"
   ]
  },
  {
   "cell_type": "code",
   "execution_count": 24,
   "metadata": {
    "collapsed": true
   },
   "outputs": [],
   "source": [
    "DATASET = 'mm-cpc'\n",
    "POSITIVE_SAMPLE_PROPORTION = 11\n",
    "if DATASET == 'mm-cpc':\n",
    "    val_dir = '../data/processed/mm-cpc-generator/validation/'\n",
    "val_csv = glob.glob(os.path.join(val_dir, '*.csv'))"
   ]
  },
  {
   "cell_type": "code",
   "execution_count": 25,
   "metadata": {
    "collapsed": true
   },
   "outputs": [],
   "source": [
    "val_df = pd.read_csv(val_csv[-1],index_col=None, header=0)"
   ]
  },
  {
   "cell_type": "code",
   "execution_count": 26,
   "metadata": {},
   "outputs": [
    {
     "data": {
      "text/plain": [
       "(355741, 97)"
      ]
     },
     "execution_count": 26,
     "metadata": {},
     "output_type": "execute_result"
    }
   ],
   "source": [
    "val_df.shape"
   ]
  },
  {
   "cell_type": "code",
   "execution_count": 27,
   "metadata": {
    "collapsed": true
   },
   "outputs": [],
   "source": [
    "pos_idx = np.where(val_df.conversion_target == 1)[0]\n",
    "neg_idx = np.where(val_df.conversion_target == 0)[0]"
   ]
  },
  {
   "cell_type": "code",
   "execution_count": 28,
   "metadata": {},
   "outputs": [
    {
     "data": {
      "text/plain": [
       "(55977, 299764)"
      ]
     },
     "execution_count": 28,
     "metadata": {},
     "output_type": "execute_result"
    }
   ],
   "source": [
    "len(pos_idx),len(neg_idx)"
   ]
  },
  {
   "cell_type": "code",
   "execution_count": 29,
   "metadata": {},
   "outputs": [
    {
     "data": {
      "text/plain": [
       "37049"
      ]
     },
     "execution_count": 29,
     "metadata": {},
     "output_type": "execute_result"
    }
   ],
   "source": [
    "#number of negative samples needed from validation dataset is:\n",
    "pos_samples_ct_reqd = round(POSITIVE_SAMPLE_PROPORTION*len(neg_idx)/(100-POSITIVE_SAMPLE_PROPORTION))\n",
    "pos_samples_ct_reqd"
   ]
  },
  {
   "cell_type": "code",
   "execution_count": 30,
   "metadata": {
    "collapsed": true
   },
   "outputs": [],
   "source": [
    "pos_idx_df_selected = random.sample(list(pos_idx), pos_samples_ct_reqd)"
   ]
  },
  {
   "cell_type": "code",
   "execution_count": 31,
   "metadata": {
    "collapsed": true
   },
   "outputs": [],
   "source": [
    "idx_selected = pos_idx_df_selected + list(neg_idx)\n",
    "idx_selected = random.sample(idx_selected, len(idx_selected))"
   ]
  },
  {
   "cell_type": "code",
   "execution_count": 32,
   "metadata": {
    "collapsed": true
   },
   "outputs": [],
   "source": [
    "val_df_final = val_df.iloc[idx_selected,:].reset_index(drop=True).copy()"
   ]
  },
  {
   "cell_type": "code",
   "execution_count": 33,
   "metadata": {},
   "outputs": [
    {
     "data": {
      "text/html": [
       "<div>\n",
       "<style>\n",
       "    .dataframe thead tr:only-child th {\n",
       "        text-align: right;\n",
       "    }\n",
       "\n",
       "    .dataframe thead th {\n",
       "        text-align: left;\n",
       "    }\n",
       "\n",
       "    .dataframe tbody tr th {\n",
       "        vertical-align: top;\n",
       "    }\n",
       "</style>\n",
       "<table border=\"1\" class=\"dataframe\">\n",
       "  <thead>\n",
       "    <tr style=\"text-align: right;\">\n",
       "      <th></th>\n",
       "      <th>exchange_id</th>\n",
       "      <th>user_frequency</th>\n",
       "      <th>site_id</th>\n",
       "      <th>deal_id</th>\n",
       "      <th>channel_type</th>\n",
       "      <th>size</th>\n",
       "      <th>week_part</th>\n",
       "      <th>day_of_week</th>\n",
       "      <th>dma_id</th>\n",
       "      <th>isp_id</th>\n",
       "      <th>...</th>\n",
       "      <th>am_859849_bpr</th>\n",
       "      <th>mm_1213050_bpr</th>\n",
       "      <th>mm_1213051_bpr</th>\n",
       "      <th>mm_1213052_bpr</th>\n",
       "      <th>mm_1213053_bpr</th>\n",
       "      <th>mm_1213054_bpr</th>\n",
       "      <th>mm_1213056_bpr</th>\n",
       "      <th>mm_1213057_bpr</th>\n",
       "      <th>mm_1213058_bpr</th>\n",
       "      <th>column_weights</th>\n",
       "    </tr>\n",
       "  </thead>\n",
       "  <tbody>\n",
       "    <tr>\n",
       "      <th>0</th>\n",
       "      <td>5</td>\n",
       "      <td>99</td>\n",
       "      <td>537324207</td>\n",
       "      <td>0</td>\n",
       "      <td>1</td>\n",
       "      <td>19661050</td>\n",
       "      <td>1</td>\n",
       "      <td>0</td>\n",
       "      <td>80037</td>\n",
       "      <td>30001</td>\n",
       "      <td>...</td>\n",
       "      <td>0.0</td>\n",
       "      <td>0.000000</td>\n",
       "      <td>0.000000</td>\n",
       "      <td>0.0</td>\n",
       "      <td>0.000000</td>\n",
       "      <td>0.000000</td>\n",
       "      <td>0.000000</td>\n",
       "      <td>0.000000</td>\n",
       "      <td>0.000000</td>\n",
       "      <td>1.0</td>\n",
       "    </tr>\n",
       "    <tr>\n",
       "      <th>1</th>\n",
       "      <td>13</td>\n",
       "      <td>99</td>\n",
       "      <td>1840458</td>\n",
       "      <td>0</td>\n",
       "      <td>1</td>\n",
       "      <td>19661050</td>\n",
       "      <td>0</td>\n",
       "      <td>3</td>\n",
       "      <td>80197</td>\n",
       "      <td>30001</td>\n",
       "      <td>...</td>\n",
       "      <td>0.0</td>\n",
       "      <td>0.000000</td>\n",
       "      <td>0.000000</td>\n",
       "      <td>0.0</td>\n",
       "      <td>0.000000</td>\n",
       "      <td>0.000000</td>\n",
       "      <td>0.000000</td>\n",
       "      <td>0.000000</td>\n",
       "      <td>0.000000</td>\n",
       "      <td>1.0</td>\n",
       "    </tr>\n",
       "    <tr>\n",
       "      <th>2</th>\n",
       "      <td>15</td>\n",
       "      <td>99</td>\n",
       "      <td>265023</td>\n",
       "      <td>0</td>\n",
       "      <td>1</td>\n",
       "      <td>19661400</td>\n",
       "      <td>0</td>\n",
       "      <td>3</td>\n",
       "      <td>80165</td>\n",
       "      <td>30001</td>\n",
       "      <td>...</td>\n",
       "      <td>0.0</td>\n",
       "      <td>0.050724</td>\n",
       "      <td>0.050729</td>\n",
       "      <td>0.0</td>\n",
       "      <td>0.050747</td>\n",
       "      <td>0.050742</td>\n",
       "      <td>0.050724</td>\n",
       "      <td>0.050747</td>\n",
       "      <td>0.050749</td>\n",
       "      <td>1.0</td>\n",
       "    </tr>\n",
       "    <tr>\n",
       "      <th>3</th>\n",
       "      <td>9</td>\n",
       "      <td>99</td>\n",
       "      <td>135890</td>\n",
       "      <td>0</td>\n",
       "      <td>1</td>\n",
       "      <td>19661050</td>\n",
       "      <td>0</td>\n",
       "      <td>3</td>\n",
       "      <td>80146</td>\n",
       "      <td>30001</td>\n",
       "      <td>...</td>\n",
       "      <td>0.0</td>\n",
       "      <td>0.000000</td>\n",
       "      <td>0.000000</td>\n",
       "      <td>0.0</td>\n",
       "      <td>0.000000</td>\n",
       "      <td>0.000000</td>\n",
       "      <td>0.000000</td>\n",
       "      <td>0.000000</td>\n",
       "      <td>0.000000</td>\n",
       "      <td>1.0</td>\n",
       "    </tr>\n",
       "    <tr>\n",
       "      <th>4</th>\n",
       "      <td>5</td>\n",
       "      <td>99</td>\n",
       "      <td>76446</td>\n",
       "      <td>0</td>\n",
       "      <td>1</td>\n",
       "      <td>19661050</td>\n",
       "      <td>0</td>\n",
       "      <td>3</td>\n",
       "      <td>80077</td>\n",
       "      <td>30001</td>\n",
       "      <td>...</td>\n",
       "      <td>0.0</td>\n",
       "      <td>0.000000</td>\n",
       "      <td>0.000000</td>\n",
       "      <td>0.0</td>\n",
       "      <td>0.000000</td>\n",
       "      <td>0.000000</td>\n",
       "      <td>0.000000</td>\n",
       "      <td>0.000000</td>\n",
       "      <td>0.000000</td>\n",
       "      <td>1.0</td>\n",
       "    </tr>\n",
       "  </tbody>\n",
       "</table>\n",
       "<p>5 rows × 97 columns</p>\n",
       "</div>"
      ],
      "text/plain": [
       "   exchange_id  user_frequency    site_id  deal_id  channel_type      size  \\\n",
       "0            5              99  537324207        0             1  19661050   \n",
       "1           13              99    1840458        0             1  19661050   \n",
       "2           15              99     265023        0             1  19661400   \n",
       "3            9              99     135890        0             1  19661050   \n",
       "4            5              99      76446        0             1  19661050   \n",
       "\n",
       "   week_part  day_of_week  dma_id  isp_id       ...        am_859849_bpr  \\\n",
       "0          1            0   80037   30001       ...                  0.0   \n",
       "1          0            3   80197   30001       ...                  0.0   \n",
       "2          0            3   80165   30001       ...                  0.0   \n",
       "3          0            3   80146   30001       ...                  0.0   \n",
       "4          0            3   80077   30001       ...                  0.0   \n",
       "\n",
       "   mm_1213050_bpr  mm_1213051_bpr  mm_1213052_bpr  mm_1213053_bpr  \\\n",
       "0        0.000000        0.000000             0.0        0.000000   \n",
       "1        0.000000        0.000000             0.0        0.000000   \n",
       "2        0.050724        0.050729             0.0        0.050747   \n",
       "3        0.000000        0.000000             0.0        0.000000   \n",
       "4        0.000000        0.000000             0.0        0.000000   \n",
       "\n",
       "   mm_1213054_bpr  mm_1213056_bpr  mm_1213057_bpr  mm_1213058_bpr  \\\n",
       "0        0.000000        0.000000        0.000000        0.000000   \n",
       "1        0.000000        0.000000        0.000000        0.000000   \n",
       "2        0.050742        0.050724        0.050747        0.050749   \n",
       "3        0.000000        0.000000        0.000000        0.000000   \n",
       "4        0.000000        0.000000        0.000000        0.000000   \n",
       "\n",
       "   column_weights  \n",
       "0             1.0  \n",
       "1             1.0  \n",
       "2             1.0  \n",
       "3             1.0  \n",
       "4             1.0  \n",
       "\n",
       "[5 rows x 97 columns]"
      ]
     },
     "execution_count": 33,
     "metadata": {},
     "output_type": "execute_result"
    }
   ],
   "source": [
    "val_df_final.head()"
   ]
  },
  {
   "cell_type": "code",
   "execution_count": 34,
   "metadata": {
    "collapsed": true
   },
   "outputs": [],
   "source": [
    "val_df_final.to_csv(val_csv[-1],index = False)"
   ]
  },
  {
   "cell_type": "code",
   "execution_count": null,
   "metadata": {
    "collapsed": true
   },
   "outputs": [],
   "source": []
  },
  {
   "cell_type": "code",
   "execution_count": null,
   "metadata": {
    "collapsed": true
   },
   "outputs": [],
   "source": []
  },
  {
   "cell_type": "code",
   "execution_count": 35,
   "metadata": {},
   "outputs": [
    {
     "data": {
      "text/plain": [
       "(355741, 336813)"
      ]
     },
     "execution_count": 35,
     "metadata": {},
     "output_type": "execute_result"
    }
   ],
   "source": [
    "55977+299764,37049+299764"
   ]
  },
  {
   "cell_type": "code",
   "execution_count": 40,
   "metadata": {
    "collapsed": true
   },
   "outputs": [],
   "source": [
    "a = pd.read_csv(val_csv[-1])#,index_col=None, header=0)"
   ]
  },
  {
   "cell_type": "code",
   "execution_count": 41,
   "metadata": {},
   "outputs": [
    {
     "data": {
      "text/html": [
       "<div>\n",
       "<style>\n",
       "    .dataframe thead tr:only-child th {\n",
       "        text-align: right;\n",
       "    }\n",
       "\n",
       "    .dataframe thead th {\n",
       "        text-align: left;\n",
       "    }\n",
       "\n",
       "    .dataframe tbody tr th {\n",
       "        vertical-align: top;\n",
       "    }\n",
       "</style>\n",
       "<table border=\"1\" class=\"dataframe\">\n",
       "  <thead>\n",
       "    <tr style=\"text-align: right;\">\n",
       "      <th></th>\n",
       "      <th>exchange_id</th>\n",
       "      <th>user_frequency</th>\n",
       "      <th>site_id</th>\n",
       "      <th>deal_id</th>\n",
       "      <th>channel_type</th>\n",
       "      <th>size</th>\n",
       "      <th>week_part</th>\n",
       "      <th>day_of_week</th>\n",
       "      <th>dma_id</th>\n",
       "      <th>isp_id</th>\n",
       "      <th>...</th>\n",
       "      <th>am_859849_bpr</th>\n",
       "      <th>mm_1213050_bpr</th>\n",
       "      <th>mm_1213051_bpr</th>\n",
       "      <th>mm_1213052_bpr</th>\n",
       "      <th>mm_1213053_bpr</th>\n",
       "      <th>mm_1213054_bpr</th>\n",
       "      <th>mm_1213056_bpr</th>\n",
       "      <th>mm_1213057_bpr</th>\n",
       "      <th>mm_1213058_bpr</th>\n",
       "      <th>column_weights</th>\n",
       "    </tr>\n",
       "  </thead>\n",
       "  <tbody>\n",
       "    <tr>\n",
       "      <th>0</th>\n",
       "      <td>30</td>\n",
       "      <td>99</td>\n",
       "      <td>2057062530</td>\n",
       "      <td>0</td>\n",
       "      <td>2</td>\n",
       "      <td>27918576</td>\n",
       "      <td>0</td>\n",
       "      <td>3</td>\n",
       "      <td>80026</td>\n",
       "      <td>30014</td>\n",
       "      <td>...</td>\n",
       "      <td>0.0</td>\n",
       "      <td>0.0</td>\n",
       "      <td>0.0</td>\n",
       "      <td>0.0</td>\n",
       "      <td>0.0</td>\n",
       "      <td>0.0</td>\n",
       "      <td>0.0</td>\n",
       "      <td>0.0</td>\n",
       "      <td>0.0</td>\n",
       "      <td>1.0</td>\n",
       "    </tr>\n",
       "    <tr>\n",
       "      <th>1</th>\n",
       "      <td>1000</td>\n",
       "      <td>99</td>\n",
       "      <td>181724</td>\n",
       "      <td>282619</td>\n",
       "      <td>1</td>\n",
       "      <td>19661050</td>\n",
       "      <td>0</td>\n",
       "      <td>3</td>\n",
       "      <td>80206</td>\n",
       "      <td>30016</td>\n",
       "      <td>...</td>\n",
       "      <td>0.0</td>\n",
       "      <td>0.0</td>\n",
       "      <td>0.0</td>\n",
       "      <td>0.0</td>\n",
       "      <td>0.0</td>\n",
       "      <td>0.0</td>\n",
       "      <td>0.0</td>\n",
       "      <td>0.0</td>\n",
       "      <td>0.0</td>\n",
       "      <td>1.0</td>\n",
       "    </tr>\n",
       "    <tr>\n",
       "      <th>2</th>\n",
       "      <td>9</td>\n",
       "      <td>99</td>\n",
       "      <td>151284717</td>\n",
       "      <td>0</td>\n",
       "      <td>1</td>\n",
       "      <td>19661050</td>\n",
       "      <td>1</td>\n",
       "      <td>6</td>\n",
       "      <td>80197</td>\n",
       "      <td>30014</td>\n",
       "      <td>...</td>\n",
       "      <td>0.0</td>\n",
       "      <td>0.0</td>\n",
       "      <td>0.0</td>\n",
       "      <td>0.0</td>\n",
       "      <td>0.0</td>\n",
       "      <td>0.0</td>\n",
       "      <td>0.0</td>\n",
       "      <td>0.0</td>\n",
       "      <td>0.0</td>\n",
       "      <td>1.0</td>\n",
       "    </tr>\n",
       "    <tr>\n",
       "      <th>3</th>\n",
       "      <td>1000</td>\n",
       "      <td>99</td>\n",
       "      <td>152996</td>\n",
       "      <td>296449</td>\n",
       "      <td>1</td>\n",
       "      <td>19661050</td>\n",
       "      <td>1</td>\n",
       "      <td>0</td>\n",
       "      <td>80071</td>\n",
       "      <td>30014</td>\n",
       "      <td>...</td>\n",
       "      <td>0.0</td>\n",
       "      <td>0.0</td>\n",
       "      <td>0.0</td>\n",
       "      <td>0.0</td>\n",
       "      <td>0.0</td>\n",
       "      <td>0.0</td>\n",
       "      <td>0.0</td>\n",
       "      <td>0.0</td>\n",
       "      <td>0.0</td>\n",
       "      <td>1.0</td>\n",
       "    </tr>\n",
       "    <tr>\n",
       "      <th>4</th>\n",
       "      <td>9</td>\n",
       "      <td>99</td>\n",
       "      <td>135898</td>\n",
       "      <td>0</td>\n",
       "      <td>4</td>\n",
       "      <td>20971570</td>\n",
       "      <td>0</td>\n",
       "      <td>2</td>\n",
       "      <td>80197</td>\n",
       "      <td>30031</td>\n",
       "      <td>...</td>\n",
       "      <td>0.0</td>\n",
       "      <td>0.0</td>\n",
       "      <td>0.0</td>\n",
       "      <td>0.0</td>\n",
       "      <td>0.0</td>\n",
       "      <td>0.0</td>\n",
       "      <td>0.0</td>\n",
       "      <td>0.0</td>\n",
       "      <td>0.0</td>\n",
       "      <td>1.0</td>\n",
       "    </tr>\n",
       "  </tbody>\n",
       "</table>\n",
       "<p>5 rows × 97 columns</p>\n",
       "</div>"
      ],
      "text/plain": [
       "   exchange_id  user_frequency     site_id  deal_id  channel_type      size  \\\n",
       "0           30              99  2057062530        0             2  27918576   \n",
       "1         1000              99      181724   282619             1  19661050   \n",
       "2            9              99   151284717        0             1  19661050   \n",
       "3         1000              99      152996   296449             1  19661050   \n",
       "4            9              99      135898        0             4  20971570   \n",
       "\n",
       "   week_part  day_of_week  dma_id  isp_id       ...        am_859849_bpr  \\\n",
       "0          0            3   80026   30014       ...                  0.0   \n",
       "1          0            3   80206   30016       ...                  0.0   \n",
       "2          1            6   80197   30014       ...                  0.0   \n",
       "3          1            0   80071   30014       ...                  0.0   \n",
       "4          0            2   80197   30031       ...                  0.0   \n",
       "\n",
       "   mm_1213050_bpr  mm_1213051_bpr  mm_1213052_bpr  mm_1213053_bpr  \\\n",
       "0             0.0             0.0             0.0             0.0   \n",
       "1             0.0             0.0             0.0             0.0   \n",
       "2             0.0             0.0             0.0             0.0   \n",
       "3             0.0             0.0             0.0             0.0   \n",
       "4             0.0             0.0             0.0             0.0   \n",
       "\n",
       "   mm_1213054_bpr  mm_1213056_bpr  mm_1213057_bpr  mm_1213058_bpr  \\\n",
       "0             0.0             0.0             0.0             0.0   \n",
       "1             0.0             0.0             0.0             0.0   \n",
       "2             0.0             0.0             0.0             0.0   \n",
       "3             0.0             0.0             0.0             0.0   \n",
       "4             0.0             0.0             0.0             0.0   \n",
       "\n",
       "   column_weights  \n",
       "0             1.0  \n",
       "1             1.0  \n",
       "2             1.0  \n",
       "3             1.0  \n",
       "4             1.0  \n",
       "\n",
       "[5 rows x 97 columns]"
      ]
     },
     "execution_count": 41,
     "metadata": {},
     "output_type": "execute_result"
    }
   ],
   "source": [
    "a.head()"
   ]
  },
  {
   "cell_type": "code",
   "execution_count": 42,
   "metadata": {},
   "outputs": [
    {
     "data": {
      "text/plain": [
       "(336813, 97)"
      ]
     },
     "execution_count": 42,
     "metadata": {},
     "output_type": "execute_result"
    }
   ],
   "source": [
    "a.shape"
   ]
  },
  {
   "cell_type": "code",
   "execution_count": null,
   "metadata": {
    "collapsed": true
   },
   "outputs": [],
   "source": []
  }
 ],
 "metadata": {
  "kernelspec": {
   "display_name": "Python 3",
   "language": "python",
   "name": "python3"
  },
  "language_info": {
   "codemirror_mode": {
    "name": "ipython",
    "version": 3
   },
   "file_extension": ".py",
   "mimetype": "text/x-python",
   "name": "python",
   "nbconvert_exporter": "python",
   "pygments_lexer": "ipython3",
   "version": "3.6.3"
  }
 },
 "nbformat": 4,
 "nbformat_minor": 2
}
